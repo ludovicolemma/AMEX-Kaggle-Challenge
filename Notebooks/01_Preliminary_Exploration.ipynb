{
  "cells": [
    {
      "cell_type": "markdown",
      "metadata": {
        "id": "27FRN9GNwePg"
      },
      "source": [
        "# Preliminary Exploration: American Express Kaggle Challenge \n",
        "I worked on Colab, with 12gb of RAM I had to sample 1/10th of the 5mln records training set\n"
      ]
    },
    {
      "cell_type": "markdown",
      "source": [
        "## Preprocessing\n",
        "\n",
        "Lots of memory limitations due to the size of the dataset, it required a little bit of tinkering with many things to fit the Colab limitations"
      ],
      "metadata": {
        "id": "iHQAAja-KH3D"
      }
    },
    {
      "cell_type": "markdown",
      "metadata": {
        "id": "rkH9NTNO4s0R"
      },
      "source": [
        "### Downloading and Unzipping the Dataset\n",
        "I had come up with two different progress bar as the zipfile library didn't make any call back possible inside its functions and classes"
      ]
    },
    {
      "cell_type": "code",
      "execution_count": 1,
      "metadata": {
        "id": "I91yjchnxYjo"
      },
      "outputs": [],
      "source": [
        "from pathlib import Path\n",
        "import urllib.request\n",
        "from tqdm import tqdm\n",
        "import zipfile\n",
        "import os\n",
        "\n",
        "# Function I wrote to download a file getting a progressbar\n",
        "def download(url, file_name):\n",
        "\n",
        "    class MyProgressBar():\n",
        "\n",
        "        def __init__(self):\n",
        "            self.pbar = None\n",
        "\n",
        "            #requesting file size from url\n",
        "            request = urllib.request.Request(url, method='HEAD')\n",
        "            self.total_size = int(urllib.request.urlopen(request).headers['Content-Length'])\n",
        "\n",
        "        def __call__(self, block_num, block_size, wrong_size):\n",
        "            #if the pbar doesn't exist yet\n",
        "            if not self.pbar:\n",
        "                self.pbar = tqdm(ascii=True, desc=f'Downloading {file_name}',\n",
        "                                 total = self.total_size, position=0, leave=True)\n",
        "\n",
        "            #tracing the size of the downloaded blocks\n",
        "            downloaded = block_num * block_size\n",
        "            missing = self.total_size - downloaded\n",
        "            \n",
        "            #updating according to either the missing size or the entire block size\n",
        "            if downloaded < self.total_size:\n",
        "                self.pbar.update(block_size)\n",
        "            else:\n",
        "                self.pbar.update(missing)\n",
        "\n",
        "    # Downloading data\n",
        "    urllib.request.urlretrieve(url, file_name, MyProgressBar())\n",
        "    return\n",
        "\n",
        "# Function I wrote to unzip a file getting a progressbar\n",
        "def unzip(path, file_name):\n",
        "\n",
        "    # Unzipping the data\n",
        "    zip_ref = zipfile.ZipFile(file_name)\n",
        "\n",
        "    for zipped_file in zip_ref.filelist:\n",
        "        # Finding a file in the zip and opening it\n",
        "        zipped_name = zipped_file.filename\n",
        "        origin = zip_ref.open(zipped_name)\n",
        "\n",
        "        # Creating the path and opening the file to write\n",
        "        Path(path).mkdir(exist_ok=True)\n",
        "        destination = open(f\"{path}/{zipped_name}\", 'wb')\n",
        "        \n",
        "        #defining the block size to unzip at each iteration\n",
        "        block_size = 8192\n",
        "        #getting the file to unzip size\n",
        "        file_size = zipped_file.file_size\n",
        "\n",
        "        #computing the total size to unzip (according to the blocks unzipped each time)\n",
        "        max_size = ( 1 + (file_size // block_size) ) * block_size + 1\n",
        "\n",
        "        #setting a progress bar\n",
        "        pbar = tqdm(ascii=True, desc=f'Unzipping {zipped_name}',\n",
        "                    total= max_size, position=0, leave=True)\n",
        "        \n",
        "        condition = True\n",
        "        #if there is still a block to unzip continue\n",
        "        while condition == True:\n",
        "            block = origin.read(block_size)\n",
        "            \n",
        "            if not block:\n",
        "                condition = False\n",
        "                break\n",
        "                \n",
        "            destination.write(block)\n",
        "            pbar.update(block_size)\n",
        "\n",
        "        pbar.update()\n",
        "        origin.close()\n",
        "        destination.close()\n",
        "    return\n",
        "\n",
        "#download, unzip and remove zip file\n",
        "def download_unzip(path, file_name, url):\n",
        "    download(url, file_name)\n",
        "    print(f'...{file_name} downloaded successfully...')\n",
        "    unzip(path, file_name)\n",
        "    os.remove(file_name)"
      ]
    },
    {
      "cell_type": "code",
      "execution_count": 2,
      "metadata": {
        "colab": {
          "base_uri": "https://localhost:8080/",
          "height": 142
        },
        "id": "dUEdXoh8wCoj",
        "outputId": "fa83798e-a307-415d-cf6d-43a86c79e022"
      },
      "outputs": [
        {
          "output_type": "stream",
          "name": "stderr",
          "text": [
            "Downloading training_labels.zip: 100%|##########| 16976582/16976582 [00:00<00:00, 98604190.93it/s]\n"
          ]
        },
        {
          "output_type": "stream",
          "name": "stdout",
          "text": [
            "...training_labels.zip downloaded successfully...\n"
          ]
        },
        {
          "output_type": "stream",
          "name": "stderr",
          "text": [
            "Unzipping train_labels.csv: 100%|##########| 30752769/30752769 [00:00<00:00, 72990079.11it/s]\n",
            "Downloading training_data.zip: 100%|##########| 7157682213/7157682213 [00:50<00:00, 141918556.42it/s]\n"
          ]
        },
        {
          "output_type": "stream",
          "name": "stdout",
          "text": [
            "...training_data.zip downloaded successfully...\n"
          ]
        },
        {
          "output_type": "stream",
          "name": "stderr",
          "text": [
            "Unzipping train_data.csv: 100%|##########| 16393289729/16393289729 [03:58<00:00, 68797531.72it/s]\n"
          ]
        },
        {
          "output_type": "execute_result",
          "data": {
            "text/plain": [
              "'/content/AMEX_Dataset'"
            ],
            "application/vnd.google.colaboratory.intrinsic+json": {
              "type": "string"
            }
          },
          "metadata": {},
          "execution_count": 2
        }
      ],
      "source": [
        "# Loading file with the download urls\n",
        "with open('drive/MyDrive/download_AMEX.txt', 'r') as f:\n",
        "    labels_url, train_url = f.read().split('\\n')\n",
        "\n",
        "# Path to save into\n",
        "path = 'AMEX_Dataset'\n",
        "\n",
        "# Downloading and unzipping training data and labels\n",
        "download_unzip(path, 'training_labels.zip', labels_url)\n",
        "download_unzip(path, 'training_data.zip', train_url)\n",
        "\n",
        "# Moving inside the Dataset folder\n",
        "os.chdir(path)\n",
        "os.getcwd()"
      ]
    },
    {
      "cell_type": "markdown",
      "metadata": {
        "id": "ECCGrVyh4qn9"
      },
      "source": [
        "### Getting a Sample of the Dataset\n",
        "I couldn't work with neither colab nor my pc otherwise"
      ]
    },
    {
      "cell_type": "code",
      "execution_count": 4,
      "metadata": {
        "id": "28ODy8yqUI-x"
      },
      "outputs": [],
      "source": [
        "import pandas as pd\n",
        "from random import sample\n",
        "from math import ceil as roundup\n",
        "\n",
        "# Dataset size got from a previous full loading of the dataset\n",
        "dataset_size = 5531450\n",
        "\n",
        "# Get a sample of the indexes\n",
        "sampled_idx = sample([x for x in range(dataset_size)], dataset_size // 10)\n",
        "\n",
        "# Creating a list with the indexes sorted\n",
        "sorted_idxs = sorted(sampled_idx)"
      ]
    },
    {
      "cell_type": "code",
      "execution_count": 5,
      "metadata": {
        "colab": {
          "base_uri": "https://localhost:8080/"
        },
        "id": "RnV42CDJyaqV",
        "outputId": "d58a9abe-347f-40e5-92f1-89a12947a8dc"
      },
      "outputs": [
        {
          "output_type": "stream",
          "name": "stderr",
          "text": [
            "100%|██████████| 56/56 [05:16<00:00,  5.66s/it]\n"
          ]
        }
      ],
      "source": [
        "# Creating empty DataFrame\n",
        "df = pd.DataFrame(columns = pd.read_csv('train_data.csv', nrows=0).columns)\n",
        "\n",
        "# Chunking to 100.000 records per iteration\n",
        "chunksize = 100000\n",
        "iterations = roundup(dataset_size / chunksize)\n",
        "df_iter = pd.read_csv('train_data.csv', chunksize=chunksize)\n",
        "\n",
        "for n, df_chunk in tqdm(enumerate(df_iter), total = iterations):\n",
        "    # geting only indexes which were selected with the random sample\n",
        "    idxs = [x for x in sorted_idxs if x >= 100000 * n and x < 100000 * (n + 1)]\n",
        "    \n",
        "    df_chunk = df_chunk.loc[idxs]\n",
        "    df = pd.concat((df, df_chunk))\n",
        "    del df_chunk"
      ]
    },
    {
      "cell_type": "markdown",
      "metadata": {
        "id": "44ADNvgbIrxU"
      },
      "source": [
        "### Adding original indexes to the DataFrame"
      ]
    },
    {
      "cell_type": "code",
      "execution_count": 6,
      "metadata": {
        "id": "h9reqtEAIptF"
      },
      "outputs": [],
      "source": [
        "df.insert(loc=0, column = 'original_indexes', value = sorted_idxs)"
      ]
    },
    {
      "cell_type": "markdown",
      "metadata": {
        "id": "jMeAUdLX7a2K"
      },
      "source": [
        "### Adding the labels to the DataFrame"
      ]
    },
    {
      "cell_type": "code",
      "execution_count": 7,
      "metadata": {
        "colab": {
          "base_uri": "https://localhost:8080/",
          "height": 300
        },
        "id": "j5u0mQoYwHow",
        "outputId": "cde44988-45b4-454b-aff1-f6b2816a7e98"
      },
      "outputs": [
        {
          "output_type": "execute_result",
          "data": {
            "text/plain": [
              "   original_indexes  target  \\\n",
              "0                 5       0   \n",
              "1                12       0   \n",
              "2                20       0   \n",
              "3                29       0   \n",
              "4                31       0   \n",
              "\n",
              "                                         customer_ID         S_2       P_2  \\\n",
              "0  0000099d6bd597052cdcda90ffabf56573fe9d7c79be5f...  2017-08-04  0.945964   \n",
              "1  0000099d6bd597052cdcda90ffabf56573fe9d7c79be5f...  2018-03-13  0.934745   \n",
              "2  00000fd6641609c6ece5454664794f0340ad84dddce9a2...  2017-10-20  0.916234   \n",
              "3  00001b22f846c82c51f6e3958ccd81970162bae8b007e8...  2017-06-10  0.852514   \n",
              "4  00001b22f846c82c51f6e3958ccd81970162bae8b007e8...  2017-08-12  0.902419   \n",
              "\n",
              "       D_39       B_1       B_2       R_1       S_3  ...  D_136  D_137  D_138  \\\n",
              "0  0.001746  0.007863  1.005006  0.004220  0.110946  ...    NaN    NaN    NaN   \n",
              "1  0.009119  0.009382  1.007647  0.006104  0.135021  ...    NaN    NaN    NaN   \n",
              "2  0.038577  0.011442  1.008145  0.006165  0.123016  ...    NaN    NaN    NaN   \n",
              "3  0.006877  0.007627  0.819987  0.009290       NaN  ...    NaN    NaN    NaN   \n",
              "4  0.005366  0.003352  0.811922  0.004008       NaN  ...    NaN    NaN    NaN   \n",
              "\n",
              "      D_139     D_140     D_141  D_142     D_143     D_144     D_145  \n",
              "0  0.001924  0.008598  0.004529    NaN  0.000674  0.002223  0.002884  \n",
              "1  0.007186  0.004234  0.005086    NaN  0.005810  0.002970  0.008533  \n",
              "2  0.009322  0.006410  0.009879    NaN  0.007611  0.001233  0.002165  \n",
              "3  0.007998  0.003724  0.005225    NaN  0.005043  0.001033  0.005859  \n",
              "4  0.000371  0.005389  0.000652    NaN  0.002085  0.008756  0.006932  \n",
              "\n",
              "[5 rows x 192 columns]"
            ],
            "text/html": [
              "\n",
              "  <div id=\"df-b4b426af-6edc-4db8-81d2-f8d671814f1a\">\n",
              "    <div class=\"colab-df-container\">\n",
              "      <div>\n",
              "<style scoped>\n",
              "    .dataframe tbody tr th:only-of-type {\n",
              "        vertical-align: middle;\n",
              "    }\n",
              "\n",
              "    .dataframe tbody tr th {\n",
              "        vertical-align: top;\n",
              "    }\n",
              "\n",
              "    .dataframe thead th {\n",
              "        text-align: right;\n",
              "    }\n",
              "</style>\n",
              "<table border=\"1\" class=\"dataframe\">\n",
              "  <thead>\n",
              "    <tr style=\"text-align: right;\">\n",
              "      <th></th>\n",
              "      <th>original_indexes</th>\n",
              "      <th>target</th>\n",
              "      <th>customer_ID</th>\n",
              "      <th>S_2</th>\n",
              "      <th>P_2</th>\n",
              "      <th>D_39</th>\n",
              "      <th>B_1</th>\n",
              "      <th>B_2</th>\n",
              "      <th>R_1</th>\n",
              "      <th>S_3</th>\n",
              "      <th>...</th>\n",
              "      <th>D_136</th>\n",
              "      <th>D_137</th>\n",
              "      <th>D_138</th>\n",
              "      <th>D_139</th>\n",
              "      <th>D_140</th>\n",
              "      <th>D_141</th>\n",
              "      <th>D_142</th>\n",
              "      <th>D_143</th>\n",
              "      <th>D_144</th>\n",
              "      <th>D_145</th>\n",
              "    </tr>\n",
              "  </thead>\n",
              "  <tbody>\n",
              "    <tr>\n",
              "      <th>0</th>\n",
              "      <td>5</td>\n",
              "      <td>0</td>\n",
              "      <td>0000099d6bd597052cdcda90ffabf56573fe9d7c79be5f...</td>\n",
              "      <td>2017-08-04</td>\n",
              "      <td>0.945964</td>\n",
              "      <td>0.001746</td>\n",
              "      <td>0.007863</td>\n",
              "      <td>1.005006</td>\n",
              "      <td>0.004220</td>\n",
              "      <td>0.110946</td>\n",
              "      <td>...</td>\n",
              "      <td>NaN</td>\n",
              "      <td>NaN</td>\n",
              "      <td>NaN</td>\n",
              "      <td>0.001924</td>\n",
              "      <td>0.008598</td>\n",
              "      <td>0.004529</td>\n",
              "      <td>NaN</td>\n",
              "      <td>0.000674</td>\n",
              "      <td>0.002223</td>\n",
              "      <td>0.002884</td>\n",
              "    </tr>\n",
              "    <tr>\n",
              "      <th>1</th>\n",
              "      <td>12</td>\n",
              "      <td>0</td>\n",
              "      <td>0000099d6bd597052cdcda90ffabf56573fe9d7c79be5f...</td>\n",
              "      <td>2018-03-13</td>\n",
              "      <td>0.934745</td>\n",
              "      <td>0.009119</td>\n",
              "      <td>0.009382</td>\n",
              "      <td>1.007647</td>\n",
              "      <td>0.006104</td>\n",
              "      <td>0.135021</td>\n",
              "      <td>...</td>\n",
              "      <td>NaN</td>\n",
              "      <td>NaN</td>\n",
              "      <td>NaN</td>\n",
              "      <td>0.007186</td>\n",
              "      <td>0.004234</td>\n",
              "      <td>0.005086</td>\n",
              "      <td>NaN</td>\n",
              "      <td>0.005810</td>\n",
              "      <td>0.002970</td>\n",
              "      <td>0.008533</td>\n",
              "    </tr>\n",
              "    <tr>\n",
              "      <th>2</th>\n",
              "      <td>20</td>\n",
              "      <td>0</td>\n",
              "      <td>00000fd6641609c6ece5454664794f0340ad84dddce9a2...</td>\n",
              "      <td>2017-10-20</td>\n",
              "      <td>0.916234</td>\n",
              "      <td>0.038577</td>\n",
              "      <td>0.011442</td>\n",
              "      <td>1.008145</td>\n",
              "      <td>0.006165</td>\n",
              "      <td>0.123016</td>\n",
              "      <td>...</td>\n",
              "      <td>NaN</td>\n",
              "      <td>NaN</td>\n",
              "      <td>NaN</td>\n",
              "      <td>0.009322</td>\n",
              "      <td>0.006410</td>\n",
              "      <td>0.009879</td>\n",
              "      <td>NaN</td>\n",
              "      <td>0.007611</td>\n",
              "      <td>0.001233</td>\n",
              "      <td>0.002165</td>\n",
              "    </tr>\n",
              "    <tr>\n",
              "      <th>3</th>\n",
              "      <td>29</td>\n",
              "      <td>0</td>\n",
              "      <td>00001b22f846c82c51f6e3958ccd81970162bae8b007e8...</td>\n",
              "      <td>2017-06-10</td>\n",
              "      <td>0.852514</td>\n",
              "      <td>0.006877</td>\n",
              "      <td>0.007627</td>\n",
              "      <td>0.819987</td>\n",
              "      <td>0.009290</td>\n",
              "      <td>NaN</td>\n",
              "      <td>...</td>\n",
              "      <td>NaN</td>\n",
              "      <td>NaN</td>\n",
              "      <td>NaN</td>\n",
              "      <td>0.007998</td>\n",
              "      <td>0.003724</td>\n",
              "      <td>0.005225</td>\n",
              "      <td>NaN</td>\n",
              "      <td>0.005043</td>\n",
              "      <td>0.001033</td>\n",
              "      <td>0.005859</td>\n",
              "    </tr>\n",
              "    <tr>\n",
              "      <th>4</th>\n",
              "      <td>31</td>\n",
              "      <td>0</td>\n",
              "      <td>00001b22f846c82c51f6e3958ccd81970162bae8b007e8...</td>\n",
              "      <td>2017-08-12</td>\n",
              "      <td>0.902419</td>\n",
              "      <td>0.005366</td>\n",
              "      <td>0.003352</td>\n",
              "      <td>0.811922</td>\n",
              "      <td>0.004008</td>\n",
              "      <td>NaN</td>\n",
              "      <td>...</td>\n",
              "      <td>NaN</td>\n",
              "      <td>NaN</td>\n",
              "      <td>NaN</td>\n",
              "      <td>0.000371</td>\n",
              "      <td>0.005389</td>\n",
              "      <td>0.000652</td>\n",
              "      <td>NaN</td>\n",
              "      <td>0.002085</td>\n",
              "      <td>0.008756</td>\n",
              "      <td>0.006932</td>\n",
              "    </tr>\n",
              "  </tbody>\n",
              "</table>\n",
              "<p>5 rows × 192 columns</p>\n",
              "</div>\n",
              "      <button class=\"colab-df-convert\" onclick=\"convertToInteractive('df-b4b426af-6edc-4db8-81d2-f8d671814f1a')\"\n",
              "              title=\"Convert this dataframe to an interactive table.\"\n",
              "              style=\"display:none;\">\n",
              "        \n",
              "  <svg xmlns=\"http://www.w3.org/2000/svg\" height=\"24px\"viewBox=\"0 0 24 24\"\n",
              "       width=\"24px\">\n",
              "    <path d=\"M0 0h24v24H0V0z\" fill=\"none\"/>\n",
              "    <path d=\"M18.56 5.44l.94 2.06.94-2.06 2.06-.94-2.06-.94-.94-2.06-.94 2.06-2.06.94zm-11 1L8.5 8.5l.94-2.06 2.06-.94-2.06-.94L8.5 2.5l-.94 2.06-2.06.94zm10 10l.94 2.06.94-2.06 2.06-.94-2.06-.94-.94-2.06-.94 2.06-2.06.94z\"/><path d=\"M17.41 7.96l-1.37-1.37c-.4-.4-.92-.59-1.43-.59-.52 0-1.04.2-1.43.59L10.3 9.45l-7.72 7.72c-.78.78-.78 2.05 0 2.83L4 21.41c.39.39.9.59 1.41.59.51 0 1.02-.2 1.41-.59l7.78-7.78 2.81-2.81c.8-.78.8-2.07 0-2.86zM5.41 20L4 18.59l7.72-7.72 1.47 1.35L5.41 20z\"/>\n",
              "  </svg>\n",
              "      </button>\n",
              "      \n",
              "  <style>\n",
              "    .colab-df-container {\n",
              "      display:flex;\n",
              "      flex-wrap:wrap;\n",
              "      gap: 12px;\n",
              "    }\n",
              "\n",
              "    .colab-df-convert {\n",
              "      background-color: #E8F0FE;\n",
              "      border: none;\n",
              "      border-radius: 50%;\n",
              "      cursor: pointer;\n",
              "      display: none;\n",
              "      fill: #1967D2;\n",
              "      height: 32px;\n",
              "      padding: 0 0 0 0;\n",
              "      width: 32px;\n",
              "    }\n",
              "\n",
              "    .colab-df-convert:hover {\n",
              "      background-color: #E2EBFA;\n",
              "      box-shadow: 0px 1px 2px rgba(60, 64, 67, 0.3), 0px 1px 3px 1px rgba(60, 64, 67, 0.15);\n",
              "      fill: #174EA6;\n",
              "    }\n",
              "\n",
              "    [theme=dark] .colab-df-convert {\n",
              "      background-color: #3B4455;\n",
              "      fill: #D2E3FC;\n",
              "    }\n",
              "\n",
              "    [theme=dark] .colab-df-convert:hover {\n",
              "      background-color: #434B5C;\n",
              "      box-shadow: 0px 1px 3px 1px rgba(0, 0, 0, 0.15);\n",
              "      filter: drop-shadow(0px 1px 2px rgba(0, 0, 0, 0.3));\n",
              "      fill: #FFFFFF;\n",
              "    }\n",
              "  </style>\n",
              "\n",
              "      <script>\n",
              "        const buttonEl =\n",
              "          document.querySelector('#df-b4b426af-6edc-4db8-81d2-f8d671814f1a button.colab-df-convert');\n",
              "        buttonEl.style.display =\n",
              "          google.colab.kernel.accessAllowed ? 'block' : 'none';\n",
              "\n",
              "        async function convertToInteractive(key) {\n",
              "          const element = document.querySelector('#df-b4b426af-6edc-4db8-81d2-f8d671814f1a');\n",
              "          const dataTable =\n",
              "            await google.colab.kernel.invokeFunction('convertToInteractive',\n",
              "                                                     [key], {});\n",
              "          if (!dataTable) return;\n",
              "\n",
              "          const docLinkHtml = 'Like what you see? Visit the ' +\n",
              "            '<a target=\"_blank\" href=https://colab.research.google.com/notebooks/data_table.ipynb>data table notebook</a>'\n",
              "            + ' to learn more about interactive tables.';\n",
              "          element.innerHTML = '';\n",
              "          dataTable['output_type'] = 'display_data';\n",
              "          await google.colab.output.renderOutput(dataTable, element);\n",
              "          const docLink = document.createElement('div');\n",
              "          docLink.innerHTML = docLinkHtml;\n",
              "          element.appendChild(docLink);\n",
              "        }\n",
              "      </script>\n",
              "    </div>\n",
              "  </div>\n",
              "  "
            ]
          },
          "metadata": {},
          "execution_count": 7
        }
      ],
      "source": [
        "labels = pd.read_csv('train_labels.csv')\n",
        "target_col = df.merge(labels, on = 'customer_ID')['target']\n",
        "\n",
        "# adding column to the dataframe\n",
        "df.insert(loc=1, column = 'target', value = target_col.values)\n",
        "df.reset_index(drop = True, inplace = True)\n",
        "df.head()"
      ]
    },
    {
      "cell_type": "markdown",
      "metadata": {
        "id": "sMLpIzPbUmk7"
      },
      "source": [
        "### Converting Human Dates to Machine Readable Unix Dates"
      ]
    },
    {
      "cell_type": "code",
      "execution_count": 8,
      "metadata": {
        "id": "UZKLwoZ-JO4i"
      },
      "outputs": [],
      "source": [
        "from datetime import datetime\n",
        "import time\n",
        "\n",
        "def to_unix_time(date_string, format = '%Y-%m-%d'):\n",
        "    to_date = datetime.strptime(date_string, format)\n",
        "    unix_time = time.mktime(to_date.timetuple())\n",
        "    return unix_time\n",
        "\n",
        "df['S_2'] = df['S_2'].apply(lambda x: to_unix_time(x))\n",
        "\n",
        "#I will convert this column to int32 as the max value possible is 2,147,483,647\n",
        "#And current date (20/11/2022) to Unix output 1,668,937,945"
      ]
    },
    {
      "cell_type": "markdown",
      "metadata": {
        "id": "TlO_4UJ5SpQ8"
      },
      "source": [
        "### Get type caster for columns\n",
        "To compress the size of the excessive info in the dataset"
      ]
    },
    {
      "cell_type": "code",
      "execution_count": 9,
      "metadata": {
        "id": "Izp351afbX4j"
      },
      "outputs": [],
      "source": [
        "import numpy as np\n",
        "\n",
        "attributes = [col for col in df.columns if col not in {'original_indexes', 'target', 'customer_ID'}]\n",
        "\n",
        "types = [type(x) for x in df[attributes].loc[0]]\n",
        "\n",
        "for n in range(len(types)):\n",
        "    if types[n] == np.float64:\n",
        "        types[n] = np.float16\n",
        "    if types[n] == np.int64:\n",
        "        types[n] = np.int16"
      ]
    },
    {
      "cell_type": "code",
      "execution_count": 10,
      "metadata": {
        "colab": {
          "base_uri": "https://localhost:8080/"
        },
        "id": "3bxaRur2F0sX",
        "outputId": "8edf00a7-dad0-4dcc-f65b-143ee16fc1ba"
      },
      "outputs": [
        {
          "output_type": "execute_result",
          "data": {
            "text/plain": [
              "[('D_139', numpy.float16),\n",
              " ('D_140', numpy.float16),\n",
              " ('D_141', numpy.float16),\n",
              " ('D_142', numpy.float16),\n",
              " ('D_143', numpy.float16),\n",
              " ('D_144', numpy.float16),\n",
              " ('D_145', numpy.float16),\n",
              " ('original_indexes', numpy.int32),\n",
              " ('target', numpy.int8),\n",
              " ('customer_ID', str)]"
            ]
          },
          "metadata": {},
          "execution_count": 10
        }
      ],
      "source": [
        "cast_type = {attributes[n] : t for n, t in enumerate(types)}\n",
        "cast_type.update({'S_2' : np.int32, 'original_indexes': np.int32, 'target' : np.int8, 'customer_ID' : str})\n",
        "list(cast_type.items())[-10:]"
      ]
    },
    {
      "cell_type": "code",
      "execution_count": 11,
      "metadata": {
        "id": "qin5z8HPaxgU"
      },
      "outputs": [],
      "source": [
        "df = df.astype(cast_type)"
      ]
    },
    {
      "cell_type": "code",
      "execution_count": 12,
      "metadata": {
        "colab": {
          "base_uri": "https://localhost:8080/"
        },
        "id": "PkqRg_K5cBcp",
        "outputId": "7e565d26-8c0f-41e9-c13c-b85b12083dfd"
      },
      "outputs": [
        {
          "output_type": "stream",
          "name": "stdout",
          "text": [
            "<class 'pandas.core.frame.DataFrame'>\n",
            "RangeIndex: 553145 entries, 0 to 553144\n",
            "Columns: 192 entries, original_indexes to D_145\n",
            "dtypes: float16(185), int32(2), int64(1), int8(1), object(3)\n",
            "memory usage: 216.8+ MB\n"
          ]
        }
      ],
      "source": [
        "df.info()"
      ]
    },
    {
      "cell_type": "markdown",
      "source": [
        "### Getting Categorical Variables"
      ],
      "metadata": {
        "id": "rSFUFQSSkdm4"
      }
    },
    {
      "cell_type": "code",
      "source": [
        "categorical = list(df.dtypes[df.dtypes == 'object'].index)\n",
        "categorical.remove('customer_ID')\n",
        "\n",
        "#removing the types of these two columns\n",
        "for col in categorical:\n",
        "    del cast_type[col]\n",
        "\n",
        "categorical"
      ],
      "metadata": {
        "colab": {
          "base_uri": "https://localhost:8080/"
        },
        "id": "a16KgDOmj4Lw",
        "outputId": "3e8a2e85-5ed5-4375-be40-940c8252d3d0"
      },
      "execution_count": 13,
      "outputs": [
        {
          "output_type": "execute_result",
          "data": {
            "text/plain": [
              "['D_63', 'D_64']"
            ]
          },
          "metadata": {},
          "execution_count": 13
        }
      ]
    },
    {
      "cell_type": "markdown",
      "source": [
        "### Plotting the categorical variables"
      ],
      "metadata": {
        "id": "Iyz2k2lheG9I"
      }
    },
    {
      "cell_type": "code",
      "source": [
        "import matplotlib.pyplot as plt\n",
        "\n",
        "fig = plt.figure(figsize=(16, 13)) \n",
        "fig_dims = (3, 3)\n",
        "\n",
        "plt.subplot2grid(fig_dims, (0, 0), title=f'Distribution of {categorical[0]}')\n",
        "plt.bar(*np.unique(df[categorical[0]], return_counts = True), \n",
        "        color = [f'C{n}' for n in range(len(df[categorical[0]].unique()))], edgecolor = 'k')\n",
        "\n",
        "plt.subplot2grid(fig_dims, (0, 1), title=f'Distribution of {categorical[1]}')\n",
        "plt.bar(*np.unique(df[categorical[1]], return_counts = True), \n",
        "        color = [f'C{n}' for n in range(len(df[categorical[1]].unique()))], edgecolor = 'k')\n",
        "\n",
        "plt.show()"
      ],
      "metadata": {
        "colab": {
          "base_uri": "https://localhost:8080/",
          "height": 54
        },
        "id": "xYg-0ZuXeGck",
        "outputId": "558f1c60-733a-419e-ae58-dd0f9058300b"
      },
      "execution_count": 14,
      "outputs": [
        {
          "output_type": "display_data",
          "data": {
            "text/plain": [
              "<Figure size 1152x936 with 2 Axes>"
            ],
            "image/png": "[encoded data removed]"
          },
          "metadata": {
            "needs_background": "light"
          }
        }
      ]
    },
    {
      "cell_type": "markdown",
      "source": [
        "### One-hot encoding categorical variables"
      ],
      "metadata": {
        "id": "kc5tAg9EfiUX"
      }
    },
    {
      "cell_type": "code",
      "source": [
        "encoded_categoricals = pd.get_dummies(df[categorical])\n",
        "#adding the types of the new columns\n",
        "cast_type.update({col : np.int8 for col in encoded_categoricals})\n",
        "\n",
        "df = pd.concat((df, encoded_categoricals), axis = 1)\n",
        "df.drop(categorical, axis = 1, inplace = True)\n",
        "del encoded_categoricals"
      ],
      "metadata": {
        "id": "acV00MKlj-Z5"
      },
      "execution_count": 15,
      "outputs": []
    },
    {
      "cell_type": "code",
      "source": [
        "df.head()"
      ],
      "metadata": {
        "colab": {
          "base_uri": "https://localhost:8080/",
          "height": 300
        },
        "id": "iaezSaKJkAqX",
        "outputId": "07c8dd45-9e61-43aa-ecde-54be51a5a7c7"
      },
      "execution_count": 16,
      "outputs": [
        {
          "output_type": "execute_result",
          "data": {
            "text/plain": [
              "   original_indexes  target  \\\n",
              "0                 5       0   \n",
              "1                12       0   \n",
              "2                20       0   \n",
              "3                29       0   \n",
              "4                31       0   \n",
              "\n",
              "                                         customer_ID         S_2       P_2  \\\n",
              "0  0000099d6bd597052cdcda90ffabf56573fe9d7c79be5f...  1501804800  0.945801   \n",
              "1  0000099d6bd597052cdcda90ffabf56573fe9d7c79be5f...  1520899200  0.934570   \n",
              "2  00000fd6641609c6ece5454664794f0340ad84dddce9a2...  1508457600  0.916016   \n",
              "3  00001b22f846c82c51f6e3958ccd81970162bae8b007e8...  1497052800  0.852539   \n",
              "4  00001b22f846c82c51f6e3958ccd81970162bae8b007e8...  1502496000  0.902344   \n",
              "\n",
              "       D_39       B_1       B_2       R_1       S_3  ...  D_63_CO  D_63_CR  \\\n",
              "0  0.001746  0.007866  1.004883  0.004219  0.110962  ...        0        1   \n",
              "1  0.009117  0.009384  1.007812  0.006104  0.135010  ...        0        1   \n",
              "2  0.038574  0.011444  1.007812  0.006165  0.122986  ...        1        0   \n",
              "3  0.006878  0.007626  0.819824  0.009293       NaN  ...        1        0   \n",
              "4  0.005367  0.003351  0.812012  0.004009       NaN  ...        1        0   \n",
              "\n",
              "   D_63_XL  D_63_XM  D_63_XZ  D_64_-1  D_64_O  D_64_R  D_64_U  D_64_nan  \n",
              "0        0        0        0        0       1       0       0         0  \n",
              "1        0        0        0        0       1       0       0         0  \n",
              "2        0        0        0        0       1       0       0         0  \n",
              "3        0        0        0        0       0       1       0         0  \n",
              "4        0        0        0        0       0       1       0         0  \n",
              "\n",
              "[5 rows x 201 columns]"
            ],
            "text/html": [
              "\n",
              "  <div id=\"df-0e3b3d24-7bf6-4654-a78f-1fa2bcaa1cc0\">\n",
              "    <div class=\"colab-df-container\">\n",
              "      <div>\n",
              "<style scoped>\n",
              "    .dataframe tbody tr th:only-of-type {\n",
              "        vertical-align: middle;\n",
              "    }\n",
              "\n",
              "    .dataframe tbody tr th {\n",
              "        vertical-align: top;\n",
              "    }\n",
              "\n",
              "    .dataframe thead th {\n",
              "        text-align: right;\n",
              "    }\n",
              "</style>\n",
              "<table border=\"1\" class=\"dataframe\">\n",
              "  <thead>\n",
              "    <tr style=\"text-align: right;\">\n",
              "      <th></th>\n",
              "      <th>original_indexes</th>\n",
              "      <th>target</th>\n",
              "      <th>customer_ID</th>\n",
              "      <th>S_2</th>\n",
              "      <th>P_2</th>\n",
              "      <th>D_39</th>\n",
              "      <th>B_1</th>\n",
              "      <th>B_2</th>\n",
              "      <th>R_1</th>\n",
              "      <th>S_3</th>\n",
              "      <th>...</th>\n",
              "      <th>D_63_CO</th>\n",
              "      <th>D_63_CR</th>\n",
              "      <th>D_63_XL</th>\n",
              "      <th>D_63_XM</th>\n",
              "      <th>D_63_XZ</th>\n",
              "      <th>D_64_-1</th>\n",
              "      <th>D_64_O</th>\n",
              "      <th>D_64_R</th>\n",
              "      <th>D_64_U</th>\n",
              "      <th>D_64_nan</th>\n",
              "    </tr>\n",
              "  </thead>\n",
              "  <tbody>\n",
              "    <tr>\n",
              "      <th>0</th>\n",
              "      <td>5</td>\n",
              "      <td>0</td>\n",
              "      <td>0000099d6bd597052cdcda90ffabf56573fe9d7c79be5f...</td>\n",
              "      <td>1501804800</td>\n",
              "      <td>0.945801</td>\n",
              "      <td>0.001746</td>\n",
              "      <td>0.007866</td>\n",
              "      <td>1.004883</td>\n",
              "      <td>0.004219</td>\n",
              "      <td>0.110962</td>\n",
              "      <td>...</td>\n",
              "      <td>0</td>\n",
              "      <td>1</td>\n",
              "      <td>0</td>\n",
              "      <td>0</td>\n",
              "      <td>0</td>\n",
              "      <td>0</td>\n",
              "      <td>1</td>\n",
              "      <td>0</td>\n",
              "      <td>0</td>\n",
              "      <td>0</td>\n",
              "    </tr>\n",
              "    <tr>\n",
              "      <th>1</th>\n",
              "      <td>12</td>\n",
              "      <td>0</td>\n",
              "      <td>0000099d6bd597052cdcda90ffabf56573fe9d7c79be5f...</td>\n",
              "      <td>1520899200</td>\n",
              "      <td>0.934570</td>\n",
              "      <td>0.009117</td>\n",
              "      <td>0.009384</td>\n",
              "      <td>1.007812</td>\n",
              "      <td>0.006104</td>\n",
              "      <td>0.135010</td>\n",
              "      <td>...</td>\n",
              "      <td>0</td>\n",
              "      <td>1</td>\n",
              "      <td>0</td>\n",
              "      <td>0</td>\n",
              "      <td>0</td>\n",
              "      <td>0</td>\n",
              "      <td>1</td>\n",
              "      <td>0</td>\n",
              "      <td>0</td>\n",
              "      <td>0</td>\n",
              "    </tr>\n",
              "    <tr>\n",
              "      <th>2</th>\n",
              "      <td>20</td>\n",
              "      <td>0</td>\n",
              "      <td>00000fd6641609c6ece5454664794f0340ad84dddce9a2...</td>\n",
              "      <td>1508457600</td>\n",
              "      <td>0.916016</td>\n",
              "      <td>0.038574</td>\n",
              "      <td>0.011444</td>\n",
              "      <td>1.007812</td>\n",
              "      <td>0.006165</td>\n",
              "      <td>0.122986</td>\n",
              "      <td>...</td>\n",
              "      <td>1</td>\n",
              "      <td>0</td>\n",
              "      <td>0</td>\n",
              "      <td>0</td>\n",
              "      <td>0</td>\n",
              "      <td>0</td>\n",
              "      <td>1</td>\n",
              "      <td>0</td>\n",
              "      <td>0</td>\n",
              "      <td>0</td>\n",
              "    </tr>\n",
              "    <tr>\n",
              "      <th>3</th>\n",
              "      <td>29</td>\n",
              "      <td>0</td>\n",
              "      <td>00001b22f846c82c51f6e3958ccd81970162bae8b007e8...</td>\n",
              "      <td>1497052800</td>\n",
              "      <td>0.852539</td>\n",
              "      <td>0.006878</td>\n",
              "      <td>0.007626</td>\n",
              "      <td>0.819824</td>\n",
              "      <td>0.009293</td>\n",
              "      <td>NaN</td>\n",
              "      <td>...</td>\n",
              "      <td>1</td>\n",
              "      <td>0</td>\n",
              "      <td>0</td>\n",
              "      <td>0</td>\n",
              "      <td>0</td>\n",
              "      <td>0</td>\n",
              "      <td>0</td>\n",
              "      <td>1</td>\n",
              "      <td>0</td>\n",
              "      <td>0</td>\n",
              "    </tr>\n",
              "    <tr>\n",
              "      <th>4</th>\n",
              "      <td>31</td>\n",
              "      <td>0</td>\n",
              "      <td>00001b22f846c82c51f6e3958ccd81970162bae8b007e8...</td>\n",
              "      <td>1502496000</td>\n",
              "      <td>0.902344</td>\n",
              "      <td>0.005367</td>\n",
              "      <td>0.003351</td>\n",
              "      <td>0.812012</td>\n",
              "      <td>0.004009</td>\n",
              "      <td>NaN</td>\n",
              "      <td>...</td>\n",
              "      <td>1</td>\n",
              "      <td>0</td>\n",
              "      <td>0</td>\n",
              "      <td>0</td>\n",
              "      <td>0</td>\n",
              "      <td>0</td>\n",
              "      <td>0</td>\n",
              "      <td>1</td>\n",
              "      <td>0</td>\n",
              "      <td>0</td>\n",
              "    </tr>\n",
              "  </tbody>\n",
              "</table>\n",
              "<p>5 rows × 201 columns</p>\n",
              "</div>\n",
              "      <button class=\"colab-df-convert\" onclick=\"convertToInteractive('df-0e3b3d24-7bf6-4654-a78f-1fa2bcaa1cc0')\"\n",
              "              title=\"Convert this dataframe to an interactive table.\"\n",
              "              style=\"display:none;\">\n",
              "        \n",
              "  <svg xmlns=\"http://www.w3.org/2000/svg\" height=\"24px\"viewBox=\"0 0 24 24\"\n",
              "       width=\"24px\">\n",
              "    <path d=\"M0 0h24v24H0V0z\" fill=\"none\"/>\n",
              "    <path d=\"M18.56 5.44l.94 2.06.94-2.06 2.06-.94-2.06-.94-.94-2.06-.94 2.06-2.06.94zm-11 1L8.5 8.5l.94-2.06 2.06-.94-2.06-.94L8.5 2.5l-.94 2.06-2.06.94zm10 10l.94 2.06.94-2.06 2.06-.94-2.06-.94-.94-2.06-.94 2.06-2.06.94z\"/><path d=\"M17.41 7.96l-1.37-1.37c-.4-.4-.92-.59-1.43-.59-.52 0-1.04.2-1.43.59L10.3 9.45l-7.72 7.72c-.78.78-.78 2.05 0 2.83L4 21.41c.39.39.9.59 1.41.59.51 0 1.02-.2 1.41-.59l7.78-7.78 2.81-2.81c.8-.78.8-2.07 0-2.86zM5.41 20L4 18.59l7.72-7.72 1.47 1.35L5.41 20z\"/>\n",
              "  </svg>\n",
              "      </button>\n",
              "      \n",
              "  <style>\n",
              "    .colab-df-container {\n",
              "      display:flex;\n",
              "      flex-wrap:wrap;\n",
              "      gap: 12px;\n",
              "    }\n",
              "\n",
              "    .colab-df-convert {\n",
              "      background-color: #E8F0FE;\n",
              "      border: none;\n",
              "      border-radius: 50%;\n",
              "      cursor: pointer;\n",
              "      display: none;\n",
              "      fill: #1967D2;\n",
              "      height: 32px;\n",
              "      padding: 0 0 0 0;\n",
              "      width: 32px;\n",
              "    }\n",
              "\n",
              "    .colab-df-convert:hover {\n",
              "      background-color: #E2EBFA;\n",
              "      box-shadow: 0px 1px 2px rgba(60, 64, 67, 0.3), 0px 1px 3px 1px rgba(60, 64, 67, 0.15);\n",
              "      fill: #174EA6;\n",
              "    }\n",
              "\n",
              "    [theme=dark] .colab-df-convert {\n",
              "      background-color: #3B4455;\n",
              "      fill: #D2E3FC;\n",
              "    }\n",
              "\n",
              "    [theme=dark] .colab-df-convert:hover {\n",
              "      background-color: #434B5C;\n",
              "      box-shadow: 0px 1px 3px 1px rgba(0, 0, 0, 0.15);\n",
              "      filter: drop-shadow(0px 1px 2px rgba(0, 0, 0, 0.3));\n",
              "      fill: #FFFFFF;\n",
              "    }\n",
              "  </style>\n",
              "\n",
              "      <script>\n",
              "        const buttonEl =\n",
              "          document.querySelector('#df-0e3b3d24-7bf6-4654-a78f-1fa2bcaa1cc0 button.colab-df-convert');\n",
              "        buttonEl.style.display =\n",
              "          google.colab.kernel.accessAllowed ? 'block' : 'none';\n",
              "\n",
              "        async function convertToInteractive(key) {\n",
              "          const element = document.querySelector('#df-0e3b3d24-7bf6-4654-a78f-1fa2bcaa1cc0');\n",
              "          const dataTable =\n",
              "            await google.colab.kernel.invokeFunction('convertToInteractive',\n",
              "                                                     [key], {});\n",
              "          if (!dataTable) return;\n",
              "\n",
              "          const docLinkHtml = 'Like what you see? Visit the ' +\n",
              "            '<a target=\"_blank\" href=https://colab.research.google.com/notebooks/data_table.ipynb>data table notebook</a>'\n",
              "            + ' to learn more about interactive tables.';\n",
              "          element.innerHTML = '';\n",
              "          dataTable['output_type'] = 'display_data';\n",
              "          await google.colab.output.renderOutput(dataTable, element);\n",
              "          const docLink = document.createElement('div');\n",
              "          docLink.innerHTML = docLinkHtml;\n",
              "          element.appendChild(docLink);\n",
              "        }\n",
              "      </script>\n",
              "    </div>\n",
              "  </div>\n",
              "  "
            ]
          },
          "metadata": {},
          "execution_count": 16
        }
      ]
    },
    {
      "cell_type": "markdown",
      "source": [
        "## Filling missing values with -99"
      ],
      "metadata": {
        "id": "774YC07unTNn"
      }
    },
    {
      "cell_type": "code",
      "source": [
        "df = df.fillna(-99)"
      ],
      "metadata": {
        "id": "n79O5ha8nOxb"
      },
      "execution_count": 17,
      "outputs": []
    },
    {
      "cell_type": "markdown",
      "metadata": {
        "id": "0nE9wV1rArTk"
      },
      "source": [
        "### Clearing all stored variables\n",
        "To free up RAM"
      ]
    },
    {
      "cell_type": "code",
      "execution_count": 18,
      "metadata": {
        "id": "mei_nCwCgS2q"
      },
      "outputs": [],
      "source": [
        "def cleanram_exclude(exclude = 'df'):\n",
        "\n",
        "    import sys\n",
        "\n",
        "    def size_b(size):\n",
        "        for unit in ['','Ki','Mi','Gi','Ti','Pi','Ei','Zi']:\n",
        "            if abs(size) < 1024:\n",
        "                return f\"{size:3.1f} {unit}B\"\n",
        "            size /= 1024\n",
        "        return f\"{size:.1f} YiB\"\n",
        "    \n",
        "    for name, size in sorted(((name, sys.getsizeof(value)) for name, value in globals().items()),\n",
        "                            key= lambda x: -x[1])[:10]:\n",
        "      \n",
        "        variable_size = size_b(size)\n",
        "        _, unit = variable_size.split()\n",
        "\n",
        "        if unit == 'GiB' or unit == 'MiB':\n",
        "            print(f\"{name:>15}: {variable_size:>8}\")\n",
        "\n",
        "            if name != exclude and name not in exclude:\n",
        "                del globals()[name]"
      ]
    },
    {
      "cell_type": "code",
      "execution_count": 19,
      "metadata": {
        "colab": {
          "base_uri": "https://localhost:8080/"
        },
        "id": "Ol0GVcNwSnJq",
        "outputId": "6084412b-ea55-45a9-dbe5-26a91fb6ed45"
      },
      "outputs": [
        {
          "output_type": "stream",
          "name": "stdout",
          "text": [
            "             df: 273.8 MiB\n",
            "         labels: 56.5 MiB\n",
            "     target_col:  8.4 MiB\n",
            "    sorted_idxs:  4.7 MiB\n",
            "    sampled_idx:  4.2 MiB\n"
          ]
        }
      ],
      "source": [
        "cleanram_exclude(exclude = 'df')"
      ]
    },
    {
      "cell_type": "markdown",
      "metadata": {
        "id": "QhtJSNpjAmVz"
      },
      "source": [
        "### Storing the DataFrame and the casting of types"
      ]
    },
    {
      "cell_type": "code",
      "execution_count": 20,
      "metadata": {
        "id": "7v74i61geKei"
      },
      "outputs": [],
      "source": [
        "# Saving the DataFrame\n",
        "df.to_csv('../drive/MyDrive/AMEX_training_(One_Fifth_Sampled).csv', index = False)"
      ]
    },
    {
      "cell_type": "code",
      "execution_count": 21,
      "metadata": {
        "id": "b0xDIact7s_e"
      },
      "outputs": [],
      "source": [
        "import pickle\n",
        "\n",
        "with open('../drive/MyDrive/AMEX_cast_type.pickle', 'wb') as handle:\n",
        "    pickle.dump(cast_type, handle, protocol=pickle.HIGHEST_PROTOCOL)"
      ]
    },
    {
      "cell_type": "code",
      "source": [
        "os.chdir('../')\n",
        "os.remove(f'{path}/train_data.csv')\n",
        "os.remove(f'{path}/train_labels.csv')\n",
        "os.rmdir(f'{path}')\n",
        "print('Removed all previous files and directories')"
      ],
      "metadata": {
        "colab": {
          "base_uri": "https://localhost:8080/"
        },
        "id": "xRU3bgXeWAEU",
        "outputId": "bf9d6e3b-18fe-4ccf-f5f2-09499b64677b"
      },
      "execution_count": 22,
      "outputs": [
        {
          "output_type": "stream",
          "name": "stdout",
          "text": [
            "Removed all previous files and directories\n"
          ]
        }
      ]
    },
    {
      "cell_type": "markdown",
      "source": [
        "## EDA"
      ],
      "metadata": {
        "id": "i7YDqbabJtBY"
      }
    },
    {
      "cell_type": "markdown",
      "metadata": {
        "id": "w9QMuC-ipb_B"
      },
      "source": [
        "### Train-test split: Managing the RAM problem\n",
        "\n",
        "---\n",
        "\n",
        "It is a bit of a overkill, and I lost a lot of time here but I wanted to understand how child processes would work out in limiting my RAM usage (calling df.values costed too much RAM to execute)"
      ]
    },
    {
      "cell_type": "code",
      "execution_count": 23,
      "metadata": {
        "colab": {
          "base_uri": "https://localhost:8080/"
        },
        "id": "Btksl8uY4B8g",
        "outputId": "3fcc5369-d383-449f-930e-a36a46aef202"
      },
      "outputs": [
        {
          "output_type": "stream",
          "name": "stdout",
          "text": [
            "Writing get_train_test_split.py\n"
          ]
        }
      ],
      "source": [
        "%%file get_train_test_split.py\n",
        "\n",
        "import os\n",
        "import pickle\n",
        "import pandas as pd\n",
        "import numpy as np\n",
        "from tqdm import tqdm\n",
        "from math import ceil\n",
        "\n",
        "from sklearn.model_selection import train_test_split\n",
        "import concurrent.futures\n",
        "\n",
        "def get_cast_dataframe(path_df, path_meta):\n",
        "    df = pd.read_csv(path_df)\n",
        "\n",
        "    with open(path_meta, 'rb') as handle:\n",
        "        cast_type = pickle.load(handle)\n",
        "\n",
        "    return df.astype(cast_type)\n",
        "\n",
        "def get_X(df, attributes, start, end):\n",
        "    return df[attributes].loc[start:end].values\n",
        "\n",
        "def process(*args):\n",
        "    function = args[0]\n",
        "    parameters = args[1:]\n",
        "    \n",
        "    with concurrent.futures.ProcessPoolExecutor(max_workers=1) as executor:\n",
        "        result = executor.submit(function, *parameters).result()\n",
        "\n",
        "    return result\n",
        "\n",
        "if __name__ == '__main__':\n",
        "    \n",
        "    path_to_df = 'drive/MyDrive/AMEX_training_(One_Fifth_Sampled).csv'\n",
        "    meta_types = 'drive/MyDrive/AMEX_cast_type.pickle'\n",
        "\n",
        "    df = process(get_cast_dataframe, path_to_df, meta_types)\n",
        "    attributes = [col for col in df.columns if col not in {'target', 'customer_ID'}]\n",
        "    X_0 = df[attributes].loc[0].values\n",
        "\n",
        "    # I needed to chunk the process as it would overexceed my RAM otherwise\n",
        "    chunks = 300000\n",
        "    iterations = ceil(len(df) / chunks)\n",
        "    for n in tqdm(range(iterations), total = iterations):\n",
        "        rows = process(get_X, df, attributes, (chunks*n)+1, chunks*(n+1))\n",
        "        locals()[f'X_{n+1}'] = np.vstack((locals()[f'X_{n}'], rows))\n",
        "        del locals()[f'X_{n}'], rows\n",
        "\n",
        "    X = locals()[f'X_{n+1}']\n",
        "    y = df['target']\n",
        "    del df, locals()[f'X_{n+1}']\n",
        "\n",
        "    X_train, X_test, y_train, y_test = train_test_split(X, y, test_size=0.3, \n",
        "                                                        stratify=y, random_state=42)\n",
        "    del X, y\n",
        "\n",
        "    np.save('drive/MyDrive/X_train.npy', X_train)\n",
        "    np.save('drive/MyDrive/X_test.npy', X_test)\n",
        "    y_train.to_csv('drive/MyDrive/y_train.csv', index = False)\n",
        "    y_test.to_csv('drive/MyDrive/y_test.csv', index = False)\n",
        "\n",
        "    del X_train, X_test, y_train, y_test"
      ]
    },
    {
      "cell_type": "code",
      "execution_count": 24,
      "metadata": {
        "colab": {
          "base_uri": "https://localhost:8080/"
        },
        "id": "HvrlALsg6Zkh",
        "outputId": "3c52b898-8292-4453-b09d-08f95f416867"
      },
      "outputs": [
        {
          "output_type": "stream",
          "name": "stdout",
          "text": [
            "100% 2/2 [00:47<00:00, 23.83s/it]\n"
          ]
        }
      ],
      "source": [
        "!python3 get_train_test_split.py"
      ]
    },
    {
      "cell_type": "markdown",
      "source": [
        "### Loading the Training and Validation set\n",
        "The numpy arrays stored"
      ],
      "metadata": {
        "id": "R-bF4ZhfKN1R"
      }
    },
    {
      "cell_type": "code",
      "source": [
        "X_train, X_test = np.load('drive/MyDrive/X_train.npy', allow_pickle = True), np.load('drive/MyDrive/X_test.npy', allow_pickle = True)\n",
        "y_train, y_test = pd.read_csv('drive/MyDrive/y_train.csv'), pd.read_csv('drive/MyDrive/y_test.csv')\n",
        "\n",
        "train_index, test_index = X_train[:,0], X_test[:,0]\n",
        "X_train, X_test = np.delete(X_train, 0, axis = 1), np.delete(X_test, 0, axis = 1)"
      ],
      "metadata": {
        "id": "qXiH-E3jJsRk"
      },
      "execution_count": 25,
      "outputs": []
    },
    {
      "cell_type": "markdown",
      "source": [
        "### Balancing of the target variable"
      ],
      "metadata": {
        "id": "YL1rBmupa-2_"
      }
    },
    {
      "cell_type": "code",
      "source": [
        "fig = plt.figure(figsize=(16, 13)) \n",
        "fig_dims = (3, 3)\n",
        "\n",
        "plt.subplot2grid(fig_dims, (0, 0), title='Training set target balance')\n",
        "plt.bar(*np.unique(y_train, return_counts = True), color = ['C0', 'C1'], edgecolor = 'k')\n",
        "plt.xticks([0, 1])\n",
        "\n",
        "plt.subplot2grid(fig_dims, (0, 1), title='Test set target balance')\n",
        "plt.bar(*np.unique(y_test, return_counts = True), color = ['C0', 'C1'], edgecolor = 'k')\n",
        "plt.xticks([0, 1])\n",
        "\n",
        "plt.show()"
      ],
      "metadata": {
        "colab": {
          "base_uri": "https://localhost:8080/",
          "height": 272
        },
        "id": "nx0nCXp5u8Bn",
        "outputId": "ea00080d-d843-468e-9a86-28c511b15e90"
      },
      "execution_count": 26,
      "outputs": [
        {
          "output_type": "display_data",
          "data": {
            "text/plain": [
              "<Figure size 1152x936 with 2 Axes>"
            ],
            "image/png": "[encoded data removed]"
          },
          "metadata": {
            "needs_background": "light"
          }
        }
      ]
    },
    {
      "cell_type": "markdown",
      "source": [
        "### Feature Selection"
      ],
      "metadata": {
        "id": "bY2yC8_Ta0cQ"
      }
    },
    {
      "cell_type": "code",
      "execution_count": 27,
      "metadata": {
        "id": "0TQEDvPFX5pt",
        "colab": {
          "base_uri": "https://localhost:8080/"
        },
        "outputId": "b253b9d2-34d2-4a56-f8d2-2699bca8a608"
      },
      "outputs": [
        {
          "output_type": "stream",
          "name": "stdout",
          "text": [
            "Number of Features: 20\n"
          ]
        }
      ],
      "source": [
        "from sklearn.feature_selection import SelectKBest\n",
        "\n",
        "sel = SelectKBest(k=20)\n",
        "X_train_SKB = sel.fit_transform(X_train, np.ravel(y_train))\n",
        "X_test_SKB = sel.transform(X_test)\n",
        "\n",
        "print('Number of Features:', X_train_SKB.shape[1])"
      ]
    },
    {
      "cell_type": "code",
      "source": [
        "attributes = [col for col in df.columns if col not in {'original_indexes', 'target', 'customer_ID'}]"
      ],
      "metadata": {
        "id": "KCXCvgL0slDA"
      },
      "execution_count": 28,
      "outputs": []
    },
    {
      "cell_type": "code",
      "source": [
        "sel.get_support(indices=True)"
      ],
      "metadata": {
        "colab": {
          "base_uri": "https://localhost:8080/"
        },
        "id": "bPKZVxFmtkeK",
        "outputId": "80b36b2a-e5be-451c-abe8-56291cc031aa"
      },
      "execution_count": 29,
      "outputs": [
        {
          "output_type": "execute_result",
          "data": {
            "text/plain": [
              "array([  3,   5,  12,  15,  17,  21,  24,  25,  26,  30,  32,  43,  54,\n",
              "        55,  70,  72,  74,  87, 140, 142])"
            ]
          },
          "metadata": {},
          "execution_count": 29
        }
      ]
    },
    {
      "cell_type": "code",
      "source": [
        "selected_features = [attributes[n] for n in sel.get_support(indices=True)]\n",
        "print(selected_features)"
      ],
      "metadata": {
        "colab": {
          "base_uri": "https://localhost:8080/"
        },
        "id": "7d1OuWw6r-IM",
        "outputId": "062ba910-ebe1-4dae-c9b5-98ba68711b73"
      },
      "execution_count": 30,
      "outputs": [
        {
          "output_type": "stream",
          "name": "stdout",
          "text": [
            "['B_1', 'R_1', 'B_4', 'R_2', 'D_47', 'B_7', 'D_51', 'B_9', 'R_3', 'D_53', 'B_11', 'D_58', 'B_17', 'B_18', 'B_23', 'P_4', 'D_75', 'R_10', 'R_26', 'B_38']\n"
          ]
        }
      ]
    },
    {
      "cell_type": "markdown",
      "source": [
        "## Classification"
      ],
      "metadata": {
        "id": "WznPeUeE2r0-"
      }
    },
    {
      "cell_type": "markdown",
      "metadata": {
        "id": "p0PyxLAVaOVT"
      },
      "source": [
        "### Decision Tree\n",
        "Only here I performed some proper hyper-parameter tuning, I wanted to finish in a day and the other classifiers would have required sampling further to have results fast... </br> \n",
        "It is anyway possible to visualize the tree here to have an understanding of the basic inner workings of the predictions of the other models as they are not easily explainable as this one"
      ]
    },
    {
      "cell_type": "code",
      "execution_count": 31,
      "metadata": {
        "id": "GIU92x-LwQ6l"
      },
      "outputs": [],
      "source": [
        "from sklearn.model_selection import cross_val_score\n",
        "from sklearn.tree import DecisionTreeClassifier\n",
        "from sklearn.model_selection import GridSearchCV\n",
        "from sklearn import tree\n",
        "\n",
        "import pydotplus\n",
        "from IPython.display import Image\n",
        "\n",
        "from sklearn.metrics import confusion_matrix\n",
        "from sklearn.metrics import accuracy_score, f1_score, classification_report\n",
        "from sklearn.metrics import roc_curve, auc, roc_auc_score"
      ]
    },
    {
      "cell_type": "code",
      "source": [
        "dtc = DecisionTreeClassifier()\n",
        "\n",
        "param_list = {'criterion': ['entropy', 'gini'],\n",
        "             'max_depth': [None] + [2, 7],\n",
        "             'min_samples_split': [2, 7, 15],\n",
        "             'min_samples_leaf': [1, 7, 15]\n",
        "             }\n",
        "\n",
        "grid_search = GridSearchCV(dtc, param_grid=param_list, scoring='f1')\n",
        "grid_search.fit(X_train_SKB, y_train)\n",
        "print(grid_search.best_estimator_)"
      ],
      "metadata": {
        "colab": {
          "base_uri": "https://localhost:8080/"
        },
        "id": "t4Q4P6BH1HmZ",
        "outputId": "124410bb-8601-4f10-8c13-03c7ba7d798a"
      },
      "execution_count": 32,
      "outputs": [
        {
          "output_type": "stream",
          "name": "stdout",
          "text": [
            "DecisionTreeClassifier(criterion='entropy', max_depth=7, min_samples_leaf=15)\n"
          ]
        }
      ]
    },
    {
      "cell_type": "code",
      "source": [
        "dtc = grid_search.best_estimator_\n",
        "\n",
        "dot_data = tree.export_graphviz (dtc, out_file=None,\n",
        "                                feature_names=selected_features,\n",
        "                                class_names=[str(v) for v in dtc.classes_],\n",
        "                                filled=True, rounded=True,\n",
        "                                special_characters=True,\n",
        "                                max_depth=2)\n",
        "\n",
        "graph = pydotplus.graph_from_dot_data(dot_data)\n",
        "Image(graph.create_png())"
      ],
      "metadata": {
        "colab": {
          "base_uri": "https://localhost:8080/",
          "height": 552
        },
        "id": "Ee8mlStq0DTn",
        "outputId": "081d0e86-b9f2-4802-a8ec-ff595863a2b8"
      },
      "execution_count": 33,
      "outputs": [
        {
          "output_type": "execute_result",
          "data": {
            "image/png": "[encoded data removed]",
            "text/plain": [
              "<IPython.core.display.Image object>"
            ]
          },
          "metadata": {},
          "execution_count": 33
        }
      ]
    },
    {
      "cell_type": "code",
      "execution_count": 34,
      "metadata": {
        "colab": {
          "base_uri": "https://localhost:8080/",
          "height": 594
        },
        "id": "OPJoa_zLxR9I",
        "outputId": "f94a33e9-d46c-4223-87e5-f7fb70554368"
      },
      "outputs": [
        {
          "output_type": "stream",
          "name": "stdout",
          "text": [
            "ROC AUC 0.8966284891635214\n",
            "Accuracy 0.8396989345803404\n",
            "F1-score [0.89529268 0.65824736]\n",
            "              precision    recall  f1-score   support\n",
            "\n",
            "           0       0.88      0.91      0.90    124536\n",
            "           1       0.70      0.62      0.66     41408\n",
            "\n",
            "    accuracy                           0.84    165944\n",
            "   macro avg       0.79      0.77      0.78    165944\n",
            "weighted avg       0.83      0.84      0.84    165944\n",
            "\n"
          ]
        },
        {
          "output_type": "display_data",
          "data": {
            "text/plain": [
              "<Figure size 1584x1296 with 2 Axes>"
            ],
            "image/png": "[encoded data removed]"
          },
          "metadata": {
            "needs_background": "light"
          }
        }
      ],
      "source": [
        "fig = plt.figure(figsize=(22, 18)) \n",
        "fig_dims = (3, 3)\n",
        "\n",
        "y_pred_dt = dtc.predict(X_test_SKB)\n",
        "y_score_dt = dtc.predict_proba(X_test_SKB)\n",
        "fpr, tpr, _ = roc_curve(y_test, y_score_dt[:, 1])\n",
        "roc_auc = auc(fpr, tpr)\n",
        "\n",
        "print(f\"ROC AUC {roc_auc}\")\n",
        "print(f\"Accuracy {accuracy_score(y_test, y_pred_dt)}\")\n",
        "print(f\"F1-score {f1_score(y_test, y_pred_dt, average=None)}\")\n",
        "print(classification_report(y_test, y_pred_dt))\n",
        "\n",
        "plt.subplot2grid(fig_dims, (0, 0))\n",
        "plt.plot(fpr, tpr, label=f\"$AUC_{{'DecisionTree'}}$: {roc_auc:.2f}\", color = 'C0')\n",
        "plt.plot([0,1], [0,1], 'k--')\n",
        "plt.title('Roc Curve Plot', fontsize=20)\n",
        "plt.xlabel('FPR', fontsize=20)\n",
        "plt.ylabel('TPR', fontsize=20)\n",
        "plt.legend(fontsize=20)\n",
        "\n",
        "plt.subplot2grid(fig_dims, (0, 1))\n",
        "imp_dict = {attr: dtc.feature_importances_[i] for i, attr in enumerate(selected_features)} #measuring feature importance\n",
        "importances = {k: v for k, v in sorted(imp_dict.items(), key=lambda item: item[1], reverse=True)} #so that they are sorted\n",
        "feat_list = [i for i in importances.keys()]\n",
        "plt.barh(feat_list, importances.values())\n",
        "plt.xticks(np.arange(0, 0.42, 0.1), fontsize=20)\n",
        "plt.yticks(fontsize=10)\n",
        "plt.title(\"Feature importance\", fontsize=20)\n",
        "\n",
        "plt.show()\n",
        "\n"
      ]
    },
    {
      "cell_type": "markdown",
      "source": [
        "### Random Forest"
      ],
      "metadata": {
        "id": "5IrawTIy2v6B"
      }
    },
    {
      "cell_type": "code",
      "source": [
        "from sklearn.ensemble import RandomForestClassifier\n",
        "\n",
        "rfc = RandomForestClassifier(criterion='entropy', max_depth=14, min_samples_split=20,\n",
        "                             min_weight_fraction_leaf=0, random_state=42)\n",
        "\n",
        "rfc.fit(X_train_SKB, np.ravel(y_train))"
      ],
      "metadata": {
        "colab": {
          "base_uri": "https://localhost:8080/"
        },
        "id": "tl1z-dl7u_Yq",
        "outputId": "b41fcf92-141d-463d-c482-1464aa4767cc"
      },
      "execution_count": 35,
      "outputs": [
        {
          "output_type": "execute_result",
          "data": {
            "text/plain": [
              "RandomForestClassifier(criterion='entropy', max_depth=14, min_samples_split=20,\n",
              "                       min_weight_fraction_leaf=0, random_state=42)"
            ]
          },
          "metadata": {},
          "execution_count": 35
        }
      ]
    },
    {
      "cell_type": "code",
      "source": [
        "fig = plt.figure(figsize=(22, 18)) \n",
        "fig_dims = (3, 3)\n",
        "\n",
        "y_pred_rfc = rfc.predict(X_test_SKB)\n",
        "y_score_rfc = rfc.predict_proba(X_test_SKB)\n",
        "fpr, tpr, _ = roc_curve(y_test, y_score_rfc[:, 1])\n",
        "roc_auc = auc(fpr, tpr)\n",
        "\n",
        "print(f\"ROC AUC {roc_auc}\")\n",
        "print(f\"Accuracy {accuracy_score(y_test, y_pred_rfc)}\")\n",
        "print(f\"F1-score {f1_score(y_test, y_pred_rfc, average=None)}\")\n",
        "print(classification_report(y_test, y_pred_rfc))\n",
        "\n",
        "plt.subplot2grid(fig_dims, (0, 0))\n",
        "plt.plot(fpr, tpr, label=f\"$AUC_{{'relu'}}$: {roc_auc:.2f}\", color = 'C2')\n",
        "plt.plot([0,1], [0,1], 'k--')\n",
        "plt.title('Roc Curve Plot', fontsize=20)\n",
        "plt.xlabel('FPR', fontsize=20)\n",
        "plt.ylabel('TPR', fontsize=20)\n",
        "plt.legend(fontsize=20)\n",
        "plt.show()\n"
      ],
      "metadata": {
        "colab": {
          "base_uri": "https://localhost:8080/",
          "height": 594
        },
        "id": "qy7nB0VIyBoZ",
        "outputId": "833fe883-7bd8-4277-930e-1aca876697bc"
      },
      "execution_count": 36,
      "outputs": [
        {
          "output_type": "stream",
          "name": "stdout",
          "text": [
            "ROC AUC 0.9174918280040363\n",
            "Accuracy 0.8558007520609362\n",
            "F1-score [0.90501161 0.70078652]\n",
            "              precision    recall  f1-score   support\n",
            "\n",
            "           0       0.89      0.92      0.91    124536\n",
            "           1       0.73      0.68      0.70     41408\n",
            "\n",
            "    accuracy                           0.86    165944\n",
            "   macro avg       0.81      0.80      0.80    165944\n",
            "weighted avg       0.85      0.86      0.85    165944\n",
            "\n"
          ]
        },
        {
          "output_type": "display_data",
          "data": {
            "text/plain": [
              "<Figure size 1584x1296 with 1 Axes>"
            ],
            "image/png": "[encoded data removed]"
          },
          "metadata": {
            "needs_background": "light"
          }
        }
      ]
    },
    {
      "cell_type": "markdown",
      "source": [
        "### Multi-layer Perceptron"
      ],
      "metadata": {
        "id": "xa6Gwj142yHt"
      }
    },
    {
      "cell_type": "code",
      "source": [
        "from sklearn.neural_network import MLPClassifier\n",
        "\n",
        "mlp = MLPClassifier(activation='relu', hidden_layer_sizes=(100, 200), \n",
        "                    learning_rate='constant', max_iter=20, \n",
        "                    random_state=42, verbose=1)\n",
        "\n",
        "mlp.fit(X_train_SKB, np.ravel(y_train))"
      ],
      "metadata": {
        "colab": {
          "base_uri": "https://localhost:8080/"
        },
        "id": "oUvk7rldhTY1",
        "outputId": "4568a002-3c6d-4fe5-d286-c706994f5ed1"
      },
      "execution_count": 37,
      "outputs": [
        {
          "output_type": "stream",
          "name": "stdout",
          "text": [
            "Iteration 1, loss = 0.38699125\n",
            "Iteration 2, loss = 0.33684241\n",
            "Iteration 3, loss = 0.33154914\n",
            "Iteration 4, loss = 0.32637634\n",
            "Iteration 5, loss = 0.32448205\n",
            "Iteration 6, loss = 0.32274564\n",
            "Iteration 7, loss = 0.32213742\n",
            "Iteration 8, loss = 0.32137308\n",
            "Iteration 9, loss = 0.32053904\n",
            "Iteration 10, loss = 0.32005767\n",
            "Iteration 11, loss = 0.31927868\n",
            "Iteration 12, loss = 0.31887109\n",
            "Iteration 13, loss = 0.31841138\n",
            "Iteration 14, loss = 0.31793291\n",
            "Iteration 15, loss = 0.31727920\n",
            "Iteration 16, loss = 0.31699481\n",
            "Iteration 17, loss = 0.31667647\n",
            "Iteration 18, loss = 0.31638622\n",
            "Iteration 19, loss = 0.31605976\n",
            "Iteration 20, loss = 0.31567606\n"
          ]
        },
        {
          "output_type": "stream",
          "name": "stderr",
          "text": [
            "/usr/local/lib/python3.7/dist-packages/sklearn/neural_network/_multilayer_perceptron.py:696: ConvergenceWarning: Stochastic Optimizer: Maximum iterations (20) reached and the optimization hasn't converged yet.\n",
            "  ConvergenceWarning,\n"
          ]
        },
        {
          "output_type": "execute_result",
          "data": {
            "text/plain": [
              "MLPClassifier(hidden_layer_sizes=(100, 200), max_iter=20, random_state=42,\n",
              "              verbose=1)"
            ]
          },
          "metadata": {},
          "execution_count": 37
        }
      ]
    },
    {
      "cell_type": "code",
      "source": [
        "fig = plt.figure(figsize=(22, 18)) \n",
        "fig_dims = (3, 3)\n",
        "\n",
        "y_pred_mlp = mlp.predict(X_test_SKB)\n",
        "y_score_mlp = mlp.predict_proba(X_test_SKB)\n",
        "fpr, tpr, _ = roc_curve(y_test, y_score_mlp[:, 1])\n",
        "roc_auc = auc(fpr, tpr)\n",
        "\n",
        "print(f\"ROC AUC {roc_auc}\")\n",
        "print(f\"Accuracy {accuracy_score(y_test, y_pred_mlp)}\")\n",
        "print(f\"F1-score {f1_score(y_test, y_pred_mlp, average=None)}\")\n",
        "print(classification_report(y_test, y_pred_mlp))\n",
        "\n",
        "plt.subplot2grid(fig_dims, (0, 0))\n",
        "plt.plot(fpr, tpr, label=f\"$AUC_{{'relu'}}$: {roc_auc:.2f}\", color = 'C3')\n",
        "plt.plot([0,1], [0,1], 'k--')\n",
        "plt.title('Roc Curve Plot', fontsize=20)\n",
        "plt.xlabel('FPR', fontsize=20)\n",
        "plt.ylabel('TPR', fontsize=20)\n",
        "plt.legend(fontsize=20)\n",
        "\n",
        "plt.subplot2grid(fig_dims, (0, 1))\n",
        "plt.plot(mlp.loss_curve_, label= f'n° of epochs: {len(mlp.loss_curve_)}', color = 'C3')\n",
        "plt.title('Loss Curve Plot', fontsize=20)\n",
        "plt.xlabel('Epochs', fontsize=20)\n",
        "plt.ylabel('Loss', fontsize=20)\n",
        "plt.legend(fontsize=20)\n",
        "plt.show()\n"
      ],
      "metadata": {
        "colab": {
          "base_uri": "https://localhost:8080/",
          "height": 594
        },
        "id": "bw0hWaanppkf",
        "outputId": "8788e639-9717-4c7f-c942-5b741ec24ff1"
      },
      "execution_count": 38,
      "outputs": [
        {
          "output_type": "stream",
          "name": "stdout",
          "text": [
            "ROC AUC 0.9136171736487386\n",
            "Accuracy 0.8524080412669334\n",
            "F1-score [0.9020273  0.70095238]\n",
            "              precision    recall  f1-score   support\n",
            "\n",
            "           0       0.90      0.91      0.90    124536\n",
            "           1       0.71      0.69      0.70     41408\n",
            "\n",
            "    accuracy                           0.85    165944\n",
            "   macro avg       0.80      0.80      0.80    165944\n",
            "weighted avg       0.85      0.85      0.85    165944\n",
            "\n"
          ]
        },
        {
          "output_type": "display_data",
          "data": {
            "text/plain": [
              "<Figure size 1584x1296 with 2 Axes>"
            ],
            "image/png": "[encoded data removed]"
          },
          "metadata": {
            "needs_background": "light"
          }
        }
      ]
    },
    {
      "cell_type": "markdown",
      "source": [
        "## Aggregating Predictions on Customers\n",
        "I will use the RandomForest predictions as they gave me the best results"
      ],
      "metadata": {
        "id": "b3q8QpZlm-tM"
      }
    },
    {
      "cell_type": "code",
      "source": [
        "measure_results = df[['customer_ID', 'target']]\n",
        "measure_results.index = df['original_indexes'].values\n",
        "measure_results = measure_results.loc[test_index]"
      ],
      "metadata": {
        "id": "KGKoi_8Emo3t"
      },
      "execution_count": 39,
      "outputs": []
    },
    {
      "cell_type": "code",
      "source": [
        "measure_results['prediction_0'] = y_score_rfc[:,0]\n",
        "measure_results['prediction_1'] = y_score_rfc[:,1]"
      ],
      "metadata": {
        "id": "u_W72_trS9hB"
      },
      "execution_count": 40,
      "outputs": []
    },
    {
      "cell_type": "code",
      "source": [
        "compare = measure_results.groupby('customer_ID').agg(np.mean)\n",
        "compare.head()"
      ],
      "metadata": {
        "colab": {
          "base_uri": "https://localhost:8080/",
          "height": 238
        },
        "id": "cIMT53UblF_y",
        "outputId": "355e9182-0bbb-4802-84be-6c0bdde0a886"
      },
      "execution_count": 41,
      "outputs": [
        {
          "output_type": "execute_result",
          "data": {
            "text/plain": [
              "                                                    target  prediction_0  \\\n",
              "customer_ID                                                                \n",
              "00001b22f846c82c51f6e3958ccd81970162bae8b007e80...     0.0      0.993493   \n",
              "000041bdba6ecadd89a52d11886e8eaaec9325906c97233...     0.0      0.913402   \n",
              "00031e8be98bc3411f6037cbd4d3eeaf24b3ae221682b77...     0.0      0.961954   \n",
              "0003b7891c49786441d138c01f55f1712df645989dcd2a8...     0.0      0.960669   \n",
              "0003e58375faf90552b2861c1ccea4ee5757827cbb6ecd1...     0.0      0.964112   \n",
              "\n",
              "                                                    prediction_1  \n",
              "customer_ID                                                       \n",
              "00001b22f846c82c51f6e3958ccd81970162bae8b007e80...      0.006507  \n",
              "000041bdba6ecadd89a52d11886e8eaaec9325906c97233...      0.086598  \n",
              "00031e8be98bc3411f6037cbd4d3eeaf24b3ae221682b77...      0.038046  \n",
              "0003b7891c49786441d138c01f55f1712df645989dcd2a8...      0.039331  \n",
              "0003e58375faf90552b2861c1ccea4ee5757827cbb6ecd1...      0.035888  "
            ],
            "text/html": [
              "\n",
              "  <div id=\"df-39fcfe85-6c28-4971-8ef3-eba1f2aa27cc\">\n",
              "    <div class=\"colab-df-container\">\n",
              "      <div>\n",
              "<style scoped>\n",
              "    .dataframe tbody tr th:only-of-type {\n",
              "        vertical-align: middle;\n",
              "    }\n",
              "\n",
              "    .dataframe tbody tr th {\n",
              "        vertical-align: top;\n",
              "    }\n",
              "\n",
              "    .dataframe thead th {\n",
              "        text-align: right;\n",
              "    }\n",
              "</style>\n",
              "<table border=\"1\" class=\"dataframe\">\n",
              "  <thead>\n",
              "    <tr style=\"text-align: right;\">\n",
              "      <th></th>\n",
              "      <th>target</th>\n",
              "      <th>prediction_0</th>\n",
              "      <th>prediction_1</th>\n",
              "    </tr>\n",
              "    <tr>\n",
              "      <th>customer_ID</th>\n",
              "      <th></th>\n",
              "      <th></th>\n",
              "      <th></th>\n",
              "    </tr>\n",
              "  </thead>\n",
              "  <tbody>\n",
              "    <tr>\n",
              "      <th>00001b22f846c82c51f6e3958ccd81970162bae8b007e80662ef27519fcc18c1</th>\n",
              "      <td>0.0</td>\n",
              "      <td>0.993493</td>\n",
              "      <td>0.006507</td>\n",
              "    </tr>\n",
              "    <tr>\n",
              "      <th>000041bdba6ecadd89a52d11886e8eaaec9325906c9723355abb5ca523658edc</th>\n",
              "      <td>0.0</td>\n",
              "      <td>0.913402</td>\n",
              "      <td>0.086598</td>\n",
              "    </tr>\n",
              "    <tr>\n",
              "      <th>00031e8be98bc3411f6037cbd4d3eeaf24b3ae221682b77900533c9bb36ec41f</th>\n",
              "      <td>0.0</td>\n",
              "      <td>0.961954</td>\n",
              "      <td>0.038046</td>\n",
              "    </tr>\n",
              "    <tr>\n",
              "      <th>0003b7891c49786441d138c01f55f1712df645989dcd2a83106ab4a229fee72d</th>\n",
              "      <td>0.0</td>\n",
              "      <td>0.960669</td>\n",
              "      <td>0.039331</td>\n",
              "    </tr>\n",
              "    <tr>\n",
              "      <th>0003e58375faf90552b2861c1ccea4ee5757827cbb6ecd15a334e47e95774185</th>\n",
              "      <td>0.0</td>\n",
              "      <td>0.964112</td>\n",
              "      <td>0.035888</td>\n",
              "    </tr>\n",
              "  </tbody>\n",
              "</table>\n",
              "</div>\n",
              "      <button class=\"colab-df-convert\" onclick=\"convertToInteractive('df-39fcfe85-6c28-4971-8ef3-eba1f2aa27cc')\"\n",
              "              title=\"Convert this dataframe to an interactive table.\"\n",
              "              style=\"display:none;\">\n",
              "        \n",
              "  <svg xmlns=\"http://www.w3.org/2000/svg\" height=\"24px\"viewBox=\"0 0 24 24\"\n",
              "       width=\"24px\">\n",
              "    <path d=\"M0 0h24v24H0V0z\" fill=\"none\"/>\n",
              "    <path d=\"M18.56 5.44l.94 2.06.94-2.06 2.06-.94-2.06-.94-.94-2.06-.94 2.06-2.06.94zm-11 1L8.5 8.5l.94-2.06 2.06-.94-2.06-.94L8.5 2.5l-.94 2.06-2.06.94zm10 10l.94 2.06.94-2.06 2.06-.94-2.06-.94-.94-2.06-.94 2.06-2.06.94z\"/><path d=\"M17.41 7.96l-1.37-1.37c-.4-.4-.92-.59-1.43-.59-.52 0-1.04.2-1.43.59L10.3 9.45l-7.72 7.72c-.78.78-.78 2.05 0 2.83L4 21.41c.39.39.9.59 1.41.59.51 0 1.02-.2 1.41-.59l7.78-7.78 2.81-2.81c.8-.78.8-2.07 0-2.86zM5.41 20L4 18.59l7.72-7.72 1.47 1.35L5.41 20z\"/>\n",
              "  </svg>\n",
              "      </button>\n",
              "      \n",
              "  <style>\n",
              "    .colab-df-container {\n",
              "      display:flex;\n",
              "      flex-wrap:wrap;\n",
              "      gap: 12px;\n",
              "    }\n",
              "\n",
              "    .colab-df-convert {\n",
              "      background-color: #E8F0FE;\n",
              "      border: none;\n",
              "      border-radius: 50%;\n",
              "      cursor: pointer;\n",
              "      display: none;\n",
              "      fill: #1967D2;\n",
              "      height: 32px;\n",
              "      padding: 0 0 0 0;\n",
              "      width: 32px;\n",
              "    }\n",
              "\n",
              "    .colab-df-convert:hover {\n",
              "      background-color: #E2EBFA;\n",
              "      box-shadow: 0px 1px 2px rgba(60, 64, 67, 0.3), 0px 1px 3px 1px rgba(60, 64, 67, 0.15);\n",
              "      fill: #174EA6;\n",
              "    }\n",
              "\n",
              "    [theme=dark] .colab-df-convert {\n",
              "      background-color: #3B4455;\n",
              "      fill: #D2E3FC;\n",
              "    }\n",
              "\n",
              "    [theme=dark] .colab-df-convert:hover {\n",
              "      background-color: #434B5C;\n",
              "      box-shadow: 0px 1px 3px 1px rgba(0, 0, 0, 0.15);\n",
              "      filter: drop-shadow(0px 1px 2px rgba(0, 0, 0, 0.3));\n",
              "      fill: #FFFFFF;\n",
              "    }\n",
              "  </style>\n",
              "\n",
              "      <script>\n",
              "        const buttonEl =\n",
              "          document.querySelector('#df-39fcfe85-6c28-4971-8ef3-eba1f2aa27cc button.colab-df-convert');\n",
              "        buttonEl.style.display =\n",
              "          google.colab.kernel.accessAllowed ? 'block' : 'none';\n",
              "\n",
              "        async function convertToInteractive(key) {\n",
              "          const element = document.querySelector('#df-39fcfe85-6c28-4971-8ef3-eba1f2aa27cc');\n",
              "          const dataTable =\n",
              "            await google.colab.kernel.invokeFunction('convertToInteractive',\n",
              "                                                     [key], {});\n",
              "          if (!dataTable) return;\n",
              "\n",
              "          const docLinkHtml = 'Like what you see? Visit the ' +\n",
              "            '<a target=\"_blank\" href=https://colab.research.google.com/notebooks/data_table.ipynb>data table notebook</a>'\n",
              "            + ' to learn more about interactive tables.';\n",
              "          element.innerHTML = '';\n",
              "          dataTable['output_type'] = 'display_data';\n",
              "          await google.colab.output.renderOutput(dataTable, element);\n",
              "          const docLink = document.createElement('div');\n",
              "          docLink.innerHTML = docLinkHtml;\n",
              "          element.appendChild(docLink);\n",
              "        }\n",
              "      </script>\n",
              "    </div>\n",
              "  </div>\n",
              "  "
            ]
          },
          "metadata": {},
          "execution_count": 41
        }
      ]
    },
    {
      "cell_type": "code",
      "source": [
        "y_test_agg = compare['target'].values\n",
        "y_score_0 = compare['prediction_0'].values.reshape(-1, 1)\n",
        "y_score_1 = compare['prediction_1'].values.reshape(-1, 1)\n",
        "\n",
        "y_pred_agg = [1 if x >= 0.5 else 0 for x in y_score_1]\n",
        "y_score_agg = np.hstack((y_score_0, y_score_1))\n",
        "\n",
        "fpr, tpr, _ = roc_curve(y_test_agg, y_score_1)\n",
        "roc_auc = auc(fpr, tpr)\n",
        "\n",
        "print(f\"ROC AUC {roc_auc}\")\n",
        "print(f\"Accuracy {accuracy_score(y_test_agg, y_pred_agg)}\")\n",
        "print(f\"F1-score {f1_score(y_test_agg, y_pred_agg, average=None)}\")\n",
        "print(classification_report(y_test_agg, y_pred_agg))\n",
        "\n",
        "plt.plot(fpr, tpr, label=f\"$AUC$: {roc_auc:.2f}\", color = 'C4')\n",
        "plt.plot([0,1], [0,1], 'k--')\n",
        "plt.title('Aggregate Predictions on Customer\\nRoc Curve Plot', fontsize=20)\n",
        "plt.xlabel('FPR', fontsize=20)\n",
        "plt.ylabel('TPR', fontsize=20)\n",
        "plt.legend(fontsize=20)\n",
        "plt.show()"
      ],
      "metadata": {
        "colab": {
          "base_uri": "https://localhost:8080/",
          "height": 545
        },
        "id": "nbACAfSdmOcA",
        "outputId": "979d4b12-eee9-49c8-8cbe-504d4c289460"
      },
      "execution_count": 42,
      "outputs": [
        {
          "output_type": "stream",
          "name": "stdout",
          "text": [
            "ROC AUC 0.9180759362178279\n",
            "Accuracy 0.8562710798605156\n",
            "F1-score [0.90513159 0.70363058]\n",
            "              precision    recall  f1-score   support\n",
            "\n",
            "         0.0       0.89      0.92      0.91    104789\n",
            "         1.0       0.73      0.68      0.70     35155\n",
            "\n",
            "    accuracy                           0.86    139944\n",
            "   macro avg       0.81      0.80      0.80    139944\n",
            "weighted avg       0.85      0.86      0.85    139944\n",
            "\n"
          ]
        },
        {
          "output_type": "display_data",
          "data": {
            "text/plain": [
              "<Figure size 432x288 with 1 Axes>"
            ],
            "image/png": "[encoded data removed]"
          },
          "metadata": {
            "needs_background": "light"
          }
        }
      ]
    },
    {
      "cell_type": "markdown",
      "source": [
        "# Test set Predict"
      ],
      "metadata": {
        "id": "y5Minl89nJRO"
      }
    },
    {
      "cell_type": "markdown",
      "source": [
        "## Getting the test set"
      ],
      "metadata": {
        "id": "x1v_KCuyu-YR"
      }
    },
    {
      "cell_type": "code",
      "source": [
        "# seeing the datatypes of the features I have\n",
        "print(df[selected_features].info())"
      ],
      "metadata": {
        "colab": {
          "base_uri": "https://localhost:8080/"
        },
        "id": "REbFXWX7qz3D",
        "outputId": "7ccbdd41-9ded-41e6-d165-9a45fb8127bd"
      },
      "execution_count": 43,
      "outputs": [
        {
          "output_type": "stream",
          "name": "stdout",
          "text": [
            "<class 'pandas.core.frame.DataFrame'>\n",
            "RangeIndex: 553145 entries, 0 to 553144\n",
            "Data columns (total 20 columns):\n",
            " #   Column  Non-Null Count   Dtype  \n",
            "---  ------  --------------   -----  \n",
            " 0   B_1     553145 non-null  float16\n",
            " 1   R_1     553145 non-null  float16\n",
            " 2   B_4     553145 non-null  float16\n",
            " 3   R_2     553145 non-null  float16\n",
            " 4   D_47    553145 non-null  float16\n",
            " 5   B_7     553145 non-null  float16\n",
            " 6   D_51    553145 non-null  float16\n",
            " 7   B_9     553145 non-null  float16\n",
            " 8   R_3     553145 non-null  float16\n",
            " 9   D_53    553145 non-null  float16\n",
            " 10  B_11    553145 non-null  float16\n",
            " 11  D_58    553145 non-null  float16\n",
            " 12  B_17    553145 non-null  float16\n",
            " 13  B_18    553145 non-null  float16\n",
            " 14  B_23    553145 non-null  float16\n",
            " 15  P_4     553145 non-null  float16\n",
            " 16  D_75    553145 non-null  float16\n",
            " 17  R_10    553145 non-null  float16\n",
            " 18  R_26    553145 non-null  float16\n",
            " 19  B_38    553145 non-null  float16\n",
            "dtypes: float16(20)\n",
            "memory usage: 21.1 MB\n",
            "None\n"
          ]
        }
      ]
    },
    {
      "cell_type": "code",
      "source": [
        "# the trained classifier I will use\n",
        "rfc"
      ],
      "metadata": {
        "colab": {
          "base_uri": "https://localhost:8080/"
        },
        "id": "XRIzXjnlnjcj",
        "outputId": "a76b31b8-4425-439d-924a-984735bd3e18"
      },
      "execution_count": 44,
      "outputs": [
        {
          "output_type": "execute_result",
          "data": {
            "text/plain": [
              "RandomForestClassifier(criterion='entropy', max_depth=14, min_samples_split=20,\n",
              "                       min_weight_fraction_leaf=0, random_state=42)"
            ]
          },
          "metadata": {},
          "execution_count": 44
        }
      ]
    },
    {
      "cell_type": "code",
      "source": [
        "# Loading file with the download urls\n",
        "with open('drive/MyDrive/testset_url.txt', 'r') as f:\n",
        "    test_url = f.read()\n",
        "\n",
        "# Downloading and unzipping test data\n",
        "download_unzip('test', 'training_labels.zip', test_url)"
      ],
      "metadata": {
        "colab": {
          "base_uri": "https://localhost:8080/"
        },
        "id": "ecryq8E1rgZV",
        "outputId": "31ffbfa3-82cc-4402-89d0-79ea025a018e"
      },
      "execution_count": 45,
      "outputs": [
        {
          "output_type": "stream",
          "name": "stderr",
          "text": [
            "Downloading training_labels.zip: 100%|##########| 14772905671/14772905671 [02:23<00:00, 103151501.61it/s]\n"
          ]
        },
        {
          "output_type": "stream",
          "name": "stdout",
          "text": [
            "...training_labels.zip downloaded successfully...\n"
          ]
        },
        {
          "output_type": "stream",
          "name": "stderr",
          "text": [
            "Unzipping test_data.csv: 100%|##########| 33824849921/33824849921 [08:55<00:00, 63124157.93it/s]\n"
          ]
        }
      ]
    },
    {
      "cell_type": "markdown",
      "source": [
        "## Getting the predictions"
      ],
      "metadata": {
        "id": "dwjO1B8MurN4"
      }
    },
    {
      "cell_type": "code",
      "source": [
        "dataset_size = 11451000 # didn't measure it, just provided the Kaggle rounded n° of records\n",
        "\n",
        "# Chunking to 100.000 records per iteration\n",
        "chunksize = 100000\n",
        "iterations = roundup(dataset_size / chunksize)\n",
        "\n",
        "cast_as = {attr : np.float16 for attr in selected_features} # as seen before\n",
        "cast_as.update({'customer_ID' : str})\n",
        "\n",
        "df_iter = pd.read_csv('test/test_data.csv', usecols = ['customer_ID'] + selected_features, \n",
        "                      dtype = cast_as, chunksize=chunksize)\n",
        "\n",
        "customers = list() # where I will store the customer_ID\n",
        "predictions = list() # where I will store the predictions\n",
        "\n",
        "for n, df_chunk in tqdm(enumerate(df_iter), total = iterations):\n",
        "    customers += df_chunk['customer_ID'].values.tolist()\n",
        "    df_chunk.drop('customer_ID', axis = 1, inplace = True)\n",
        "    X_test_real = df_chunk.fillna(-99).values\n",
        "    y_score_real = rfc.predict_proba(X_test_real)[:,1].tolist()\n",
        "    predictions += y_score_real\n",
        "    del df_chunk, X_test_real, y_score_real"
      ],
      "metadata": {
        "colab": {
          "base_uri": "https://localhost:8080/"
        },
        "id": "Va-52YyYmkGC",
        "outputId": "65257cfe-a335-47e1-8741-c68dcd2d70fb"
      },
      "execution_count": 46,
      "outputs": [
        {
          "output_type": "stream",
          "name": "stderr",
          "text": [
            " 99%|█████████▉| 114/115 [09:49<00:05,  5.17s/it]\n"
          ]
        }
      ]
    },
    {
      "cell_type": "code",
      "source": [
        "len(customers) == len(predictions)"
      ],
      "metadata": {
        "colab": {
          "base_uri": "https://localhost:8080/"
        },
        "id": "7wcmBk48y1xt",
        "outputId": "c51b033c-9f1d-4552-9435-b6282dab4569"
      },
      "execution_count": 47,
      "outputs": [
        {
          "output_type": "execute_result",
          "data": {
            "text/plain": [
              "True"
            ]
          },
          "metadata": {},
          "execution_count": 47
        }
      ]
    },
    {
      "cell_type": "markdown",
      "source": [
        "# Getting the submission file"
      ],
      "metadata": {
        "id": "qpPddZll05uu"
      }
    },
    {
      "cell_type": "code",
      "source": [
        "finilize = pd.DataFrame(zip(customers, predictions), columns = ['customer_ID', 'prediction']).groupby('customer_ID').agg(np.mean)"
      ],
      "metadata": {
        "id": "gYdV-VOmsY8S"
      },
      "execution_count": 48,
      "outputs": []
    },
    {
      "cell_type": "markdown",
      "source": [
        "The submission requires probabilities, not a binary classification"
      ],
      "metadata": {
        "id": "Uhoic3F5Z-fP"
      }
    },
    {
      "cell_type": "code",
      "source": [
        "#prediction_round = [1 if x >= 0.5 else 0 for x in finilize['prediction']]\n",
        "finilize.reset_index(inplace = True)\n",
        "#finilize['prediction'] = prediction_round"
      ],
      "metadata": {
        "id": "ApSyaymmzbDC"
      },
      "execution_count": 49,
      "outputs": []
    },
    {
      "cell_type": "code",
      "source": [
        "finilize.head()"
      ],
      "metadata": {
        "colab": {
          "base_uri": "https://localhost:8080/",
          "height": 206
        },
        "id": "QZJhLQV9yYh9",
        "outputId": "58947c7d-9434-430f-aa45-c5949054ea8b"
      },
      "execution_count": 50,
      "outputs": [
        {
          "output_type": "execute_result",
          "data": {
            "text/plain": [
              "                                         customer_ID  prediction\n",
              "0  00000469ba478561f23a92a868bd366de6f6527a684c9a...    0.177942\n",
              "1  00001bf2e77ff879fab36aa4fac689b9ba411dae63ae39...    0.009357\n",
              "2  0000210045da4f81e5f122c6bde5c2a617d03eef67f82c...    0.068740\n",
              "3  00003b41e58ede33b8daf61ab56d9952f17c9ad1c3976c...    0.660639\n",
              "4  00004b22eaeeeb0ec976890c1d9bfc14fd9427e98c4ee9...    0.769679"
            ],
            "text/html": [
              "\n",
              "  <div id=\"df-c582f5be-3434-4969-8778-e822988c9d66\">\n",
              "    <div class=\"colab-df-container\">\n",
              "      <div>\n",
              "<style scoped>\n",
              "    .dataframe tbody tr th:only-of-type {\n",
              "        vertical-align: middle;\n",
              "    }\n",
              "\n",
              "    .dataframe tbody tr th {\n",
              "        vertical-align: top;\n",
              "    }\n",
              "\n",
              "    .dataframe thead th {\n",
              "        text-align: right;\n",
              "    }\n",
              "</style>\n",
              "<table border=\"1\" class=\"dataframe\">\n",
              "  <thead>\n",
              "    <tr style=\"text-align: right;\">\n",
              "      <th></th>\n",
              "      <th>customer_ID</th>\n",
              "      <th>prediction</th>\n",
              "    </tr>\n",
              "  </thead>\n",
              "  <tbody>\n",
              "    <tr>\n",
              "      <th>0</th>\n",
              "      <td>00000469ba478561f23a92a868bd366de6f6527a684c9a...</td>\n",
              "      <td>0.177942</td>\n",
              "    </tr>\n",
              "    <tr>\n",
              "      <th>1</th>\n",
              "      <td>00001bf2e77ff879fab36aa4fac689b9ba411dae63ae39...</td>\n",
              "      <td>0.009357</td>\n",
              "    </tr>\n",
              "    <tr>\n",
              "      <th>2</th>\n",
              "      <td>0000210045da4f81e5f122c6bde5c2a617d03eef67f82c...</td>\n",
              "      <td>0.068740</td>\n",
              "    </tr>\n",
              "    <tr>\n",
              "      <th>3</th>\n",
              "      <td>00003b41e58ede33b8daf61ab56d9952f17c9ad1c3976c...</td>\n",
              "      <td>0.660639</td>\n",
              "    </tr>\n",
              "    <tr>\n",
              "      <th>4</th>\n",
              "      <td>00004b22eaeeeb0ec976890c1d9bfc14fd9427e98c4ee9...</td>\n",
              "      <td>0.769679</td>\n",
              "    </tr>\n",
              "  </tbody>\n",
              "</table>\n",
              "</div>\n",
              "      <button class=\"colab-df-convert\" onclick=\"convertToInteractive('df-c582f5be-3434-4969-8778-e822988c9d66')\"\n",
              "              title=\"Convert this dataframe to an interactive table.\"\n",
              "              style=\"display:none;\">\n",
              "        \n",
              "  <svg xmlns=\"http://www.w3.org/2000/svg\" height=\"24px\"viewBox=\"0 0 24 24\"\n",
              "       width=\"24px\">\n",
              "    <path d=\"M0 0h24v24H0V0z\" fill=\"none\"/>\n",
              "    <path d=\"M18.56 5.44l.94 2.06.94-2.06 2.06-.94-2.06-.94-.94-2.06-.94 2.06-2.06.94zm-11 1L8.5 8.5l.94-2.06 2.06-.94-2.06-.94L8.5 2.5l-.94 2.06-2.06.94zm10 10l.94 2.06.94-2.06 2.06-.94-2.06-.94-.94-2.06-.94 2.06-2.06.94z\"/><path d=\"M17.41 7.96l-1.37-1.37c-.4-.4-.92-.59-1.43-.59-.52 0-1.04.2-1.43.59L10.3 9.45l-7.72 7.72c-.78.78-.78 2.05 0 2.83L4 21.41c.39.39.9.59 1.41.59.51 0 1.02-.2 1.41-.59l7.78-7.78 2.81-2.81c.8-.78.8-2.07 0-2.86zM5.41 20L4 18.59l7.72-7.72 1.47 1.35L5.41 20z\"/>\n",
              "  </svg>\n",
              "      </button>\n",
              "      \n",
              "  <style>\n",
              "    .colab-df-container {\n",
              "      display:flex;\n",
              "      flex-wrap:wrap;\n",
              "      gap: 12px;\n",
              "    }\n",
              "\n",
              "    .colab-df-convert {\n",
              "      background-color: #E8F0FE;\n",
              "      border: none;\n",
              "      border-radius: 50%;\n",
              "      cursor: pointer;\n",
              "      display: none;\n",
              "      fill: #1967D2;\n",
              "      height: 32px;\n",
              "      padding: 0 0 0 0;\n",
              "      width: 32px;\n",
              "    }\n",
              "\n",
              "    .colab-df-convert:hover {\n",
              "      background-color: #E2EBFA;\n",
              "      box-shadow: 0px 1px 2px rgba(60, 64, 67, 0.3), 0px 1px 3px 1px rgba(60, 64, 67, 0.15);\n",
              "      fill: #174EA6;\n",
              "    }\n",
              "\n",
              "    [theme=dark] .colab-df-convert {\n",
              "      background-color: #3B4455;\n",
              "      fill: #D2E3FC;\n",
              "    }\n",
              "\n",
              "    [theme=dark] .colab-df-convert:hover {\n",
              "      background-color: #434B5C;\n",
              "      box-shadow: 0px 1px 3px 1px rgba(0, 0, 0, 0.15);\n",
              "      filter: drop-shadow(0px 1px 2px rgba(0, 0, 0, 0.3));\n",
              "      fill: #FFFFFF;\n",
              "    }\n",
              "  </style>\n",
              "\n",
              "      <script>\n",
              "        const buttonEl =\n",
              "          document.querySelector('#df-c582f5be-3434-4969-8778-e822988c9d66 button.colab-df-convert');\n",
              "        buttonEl.style.display =\n",
              "          google.colab.kernel.accessAllowed ? 'block' : 'none';\n",
              "\n",
              "        async function convertToInteractive(key) {\n",
              "          const element = document.querySelector('#df-c582f5be-3434-4969-8778-e822988c9d66');\n",
              "          const dataTable =\n",
              "            await google.colab.kernel.invokeFunction('convertToInteractive',\n",
              "                                                     [key], {});\n",
              "          if (!dataTable) return;\n",
              "\n",
              "          const docLinkHtml = 'Like what you see? Visit the ' +\n",
              "            '<a target=\"_blank\" href=https://colab.research.google.com/notebooks/data_table.ipynb>data table notebook</a>'\n",
              "            + ' to learn more about interactive tables.';\n",
              "          element.innerHTML = '';\n",
              "          dataTable['output_type'] = 'display_data';\n",
              "          await google.colab.output.renderOutput(dataTable, element);\n",
              "          const docLink = document.createElement('div');\n",
              "          docLink.innerHTML = docLinkHtml;\n",
              "          element.appendChild(docLink);\n",
              "        }\n",
              "      </script>\n",
              "    </div>\n",
              "  </div>\n",
              "  "
            ]
          },
          "metadata": {},
          "execution_count": 50
        }
      ]
    },
    {
      "cell_type": "code",
      "source": [
        "finilize.to_csv('drive/MyDrive/submission.csv', index = False)"
      ],
      "metadata": {
        "id": "Aav0UP5qybOB"
      },
      "execution_count": 51,
      "outputs": []
    },
    {
      "cell_type": "markdown",
      "source": [
        "# Next things to do:\n",
        "\n",
        "*   Making some serious feature selection\n",
        "*   Keeping into account the past actions of each customer\n",
        "*   Decide how to handle missing values (I don't know yet if -99 is the best I can do)\n",
        "*   Making hyperparameter tuning on some samples"
      ],
      "metadata": {
        "id": "bQbQjkezYcjJ"
      }
    }
  ],
  "metadata": {
    "colab": {
      "provenance": [],
      "mount_file_id": "https://github.com/ludovicolemma/AmEx-Kaggle-Challenge/blob/main/American_Express_Kaggle_Challenge.ipynb",
      "authorship_tag": "ABX9TyOVj94dzHGOz0y5aDUxAmql"
    },
    "kernelspec": {
      "display_name": "Python 3",
      "name": "python3"
    },
    "language_info": {
      "name": "python"
    }
  },
  "nbformat": 4,
  "nbformat_minor": 0
}
